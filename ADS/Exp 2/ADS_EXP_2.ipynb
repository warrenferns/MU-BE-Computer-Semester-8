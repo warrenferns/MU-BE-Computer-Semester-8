{
 "cells": [
  {
   "cell_type": "markdown",
   "metadata": {
    "id": "79DNXVo2PU2u"
   },
   "source": [
    "# **Descriptive Analysis**\n",
    "\n",
    "###### https://brainalystacademy.com/descriptive-statistics-in-python/"
   ]
  },
  {
   "cell_type": "code",
   "execution_count": 1,
   "metadata": {
    "id": "ubeBVTRGO6vs"
   },
   "outputs": [],
   "source": [
    "import numpy as np\n",
    "import pandas as pd\n",
    "import seaborn as sns\n",
    "import matplotlib.pyplot as plt\n",
    "%matplotlib inline"
   ]
  },
  {
   "cell_type": "code",
   "execution_count": 2,
   "metadata": {
    "id": "0Zp74X3xS0ys"
   },
   "outputs": [],
   "source": [
    "details = {\"price\":[40,30,40,30,40,30,40,40,40,40,40,30,40,40,50,50,40,50,50,40,40,30,30],\n",
    "\"name\":[\"Orange\", \"Apple\",\"Orange\",\"Apple\",\"Orange\",\"Apple\",\"Orange\",\"Grapes\",\"Grapes\",\"Orange\",\"Grapes\", \"Apple\",\"Orange\", \"Grapes\",\"Watermelon\",\"Watermelon\",\"Grapes\",\"Watermelon\",\"Watermelon\",\"Grapes\",\"Orange\",\"Apple\",\"Apple\"]}\n"
   ]
  },
  {
   "cell_type": "code",
   "execution_count": 3,
   "metadata": {
    "id": "krsouwHnWakV"
   },
   "outputs": [],
   "source": [
    "Fruitsdf = pd.DataFrame(details)"
   ]
  },
  {
   "cell_type": "code",
   "execution_count": 4,
   "metadata": {
    "colab": {
     "base_uri": "https://localhost:8080/",
     "height": 206
    },
    "id": "0Ny0AaxNWlzr",
    "outputId": "081bbc74-2449-4cdf-c7e0-0cd04f942835"
   },
   "outputs": [
    {
     "data": {
      "text/html": [
       "<div>\n",
       "<style scoped>\n",
       "    .dataframe tbody tr th:only-of-type {\n",
       "        vertical-align: middle;\n",
       "    }\n",
       "\n",
       "    .dataframe tbody tr th {\n",
       "        vertical-align: top;\n",
       "    }\n",
       "\n",
       "    .dataframe thead th {\n",
       "        text-align: right;\n",
       "    }\n",
       "</style>\n",
       "<table border=\"1\" class=\"dataframe\">\n",
       "  <thead>\n",
       "    <tr style=\"text-align: right;\">\n",
       "      <th></th>\n",
       "      <th>price</th>\n",
       "    </tr>\n",
       "    <tr>\n",
       "      <th>name</th>\n",
       "      <th></th>\n",
       "    </tr>\n",
       "  </thead>\n",
       "  <tbody>\n",
       "    <tr>\n",
       "      <th>Apple</th>\n",
       "      <td>180</td>\n",
       "    </tr>\n",
       "    <tr>\n",
       "      <th>Grapes</th>\n",
       "      <td>240</td>\n",
       "    </tr>\n",
       "    <tr>\n",
       "      <th>Orange</th>\n",
       "      <td>280</td>\n",
       "    </tr>\n",
       "    <tr>\n",
       "      <th>Watermelon</th>\n",
       "      <td>200</td>\n",
       "    </tr>\n",
       "  </tbody>\n",
       "</table>\n",
       "</div>"
      ],
      "text/plain": [
       "            price\n",
       "name             \n",
       "Apple         180\n",
       "Grapes        240\n",
       "Orange        280\n",
       "Watermelon    200"
      ]
     },
     "execution_count": 4,
     "metadata": {},
     "output_type": "execute_result"
    }
   ],
   "source": [
    "# using groupby() from pandas. Sum all the fruit names concerning the price column and display the result\n",
    "groupvalue = Fruitsdf.groupby('name').sum()\n",
    "groupvalue"
   ]
  },
  {
   "cell_type": "code",
   "execution_count": 5,
   "metadata": {
    "colab": {
     "base_uri": "https://localhost:8080/",
     "height": 279
    },
    "id": "UbYGg6O2XWfp",
    "outputId": "c3a49afd-9351-4ded-f12e-afa496e14369"
   },
   "outputs": [
    {
     "data": {
      "image/png": "[encoded data removed]",
      "text/plain": [
       "<Figure size 432x288 with 1 Axes>"
      ]
     },
     "metadata": {
      "needs_background": "light"
     },
     "output_type": "display_data"
    }
   ],
   "source": [
    "BAR_GRAPH = sns.barplot(x=Fruitsdf['name'], y=Fruitsdf['price'])"
   ]
  },
  {
   "cell_type": "code",
   "execution_count": 6,
   "metadata": {
    "colab": {
     "base_uri": "https://localhost:8080/",
     "height": 206
    },
    "id": "K3FppJ6GXiaZ",
    "outputId": "e93336b1-d423-4db2-8a18-a7d5cbe9b21d"
   },
   "outputs": [
    {
     "data": {
      "text/html": [
       "<div>\n",
       "<style scoped>\n",
       "    .dataframe tbody tr th:only-of-type {\n",
       "        vertical-align: middle;\n",
       "    }\n",
       "\n",
       "    .dataframe tbody tr th {\n",
       "        vertical-align: top;\n",
       "    }\n",
       "\n",
       "    .dataframe thead th {\n",
       "        text-align: right;\n",
       "    }\n",
       "</style>\n",
       "<table border=\"1\" class=\"dataframe\">\n",
       "  <thead>\n",
       "    <tr style=\"text-align: right;\">\n",
       "      <th>col_0</th>\n",
       "      <th>count</th>\n",
       "    </tr>\n",
       "    <tr>\n",
       "      <th>name</th>\n",
       "      <th></th>\n",
       "    </tr>\n",
       "  </thead>\n",
       "  <tbody>\n",
       "    <tr>\n",
       "      <th>Apple</th>\n",
       "      <td>6</td>\n",
       "    </tr>\n",
       "    <tr>\n",
       "      <th>Grapes</th>\n",
       "      <td>6</td>\n",
       "    </tr>\n",
       "    <tr>\n",
       "      <th>Orange</th>\n",
       "      <td>7</td>\n",
       "    </tr>\n",
       "    <tr>\n",
       "      <th>Watermelon</th>\n",
       "      <td>4</td>\n",
       "    </tr>\n",
       "  </tbody>\n",
       "</table>\n",
       "</div>"
      ],
      "text/plain": [
       "col_0       count\n",
       "name             \n",
       "Apple           6\n",
       "Grapes          6\n",
       "Orange          7\n",
       "Watermelon      4"
      ]
     },
     "execution_count": 6,
     "metadata": {},
     "output_type": "execute_result"
    }
   ],
   "source": [
    "freq_fruits = pd.crosstab(index=Fruitsdf[\"name\"],columns=\"count\")\n",
    "freq_fruits"
   ]
  },
  {
   "cell_type": "code",
   "execution_count": 7,
   "metadata": {
    "colab": {
     "base_uri": "https://localhost:8080/",
     "height": 175
    },
    "id": "UcHZrErBXlQB",
    "outputId": "bafe3262-9b33-4101-e5ad-57b20ee4fe95"
   },
   "outputs": [
    {
     "data": {
      "text/html": [
       "<div>\n",
       "<style scoped>\n",
       "    .dataframe tbody tr th:only-of-type {\n",
       "        vertical-align: middle;\n",
       "    }\n",
       "\n",
       "    .dataframe tbody tr th {\n",
       "        vertical-align: top;\n",
       "    }\n",
       "\n",
       "    .dataframe thead th {\n",
       "        text-align: right;\n",
       "    }\n",
       "</style>\n",
       "<table border=\"1\" class=\"dataframe\">\n",
       "  <thead>\n",
       "    <tr style=\"text-align: right;\">\n",
       "      <th>col_0</th>\n",
       "      <th>name</th>\n",
       "      <th>count</th>\n",
       "    </tr>\n",
       "  </thead>\n",
       "  <tbody>\n",
       "    <tr>\n",
       "      <th>0</th>\n",
       "      <td>Apple</td>\n",
       "      <td>6</td>\n",
       "    </tr>\n",
       "    <tr>\n",
       "      <th>1</th>\n",
       "      <td>Grapes</td>\n",
       "      <td>6</td>\n",
       "    </tr>\n",
       "    <tr>\n",
       "      <th>2</th>\n",
       "      <td>Orange</td>\n",
       "      <td>7</td>\n",
       "    </tr>\n",
       "    <tr>\n",
       "      <th>3</th>\n",
       "      <td>Watermelon</td>\n",
       "      <td>4</td>\n",
       "    </tr>\n",
       "  </tbody>\n",
       "</table>\n",
       "</div>"
      ],
      "text/plain": [
       "col_0        name  count\n",
       "0           Apple      6\n",
       "1          Grapes      6\n",
       "2          Orange      7\n",
       "3      Watermelon      4"
      ]
     },
     "execution_count": 7,
     "metadata": {},
     "output_type": "execute_result"
    }
   ],
   "source": [
    "Freq_Fruits = freq_fruits.reset_index()\n",
    "Freq_Fruits"
   ]
  },
  {
   "cell_type": "code",
   "execution_count": 8,
   "metadata": {
    "colab": {
     "base_uri": "https://localhost:8080/",
     "height": 536
    },
    "id": "bJ9D0c_QXt1F",
    "outputId": "b179a9d2-39ee-4364-ff5e-99b079ac8a6e"
   },
   "outputs": [
    {
     "data": {
      "image/png": "[encoded data removed]",
      "text/plain": [
       "<Figure size 648x648 with 1 Axes>"
      ]
     },
     "metadata": {},
     "output_type": "display_data"
    }
   ],
   "source": [
    "Pie_Chart = freq_fruits.plot(kind=\"pie\",y='count',autopct='%1.1f%%',title='Pie Chart',fontsize=14,figsize=(9,9))"
   ]
  },
  {
   "cell_type": "code",
   "execution_count": 9,
   "metadata": {
    "id": "njq6MSf4X0au"
   },
   "outputs": [],
   "source": [
    "# Adding a new column weight to the existing fruits dataset\n",
    "weight = ['1kg', '2kg', '1kg', '1.5kg','1kg','1.5kg','2kg','2.5kg','3kg','1.5kg','1kg','2.5kg','1kg','1kg','1.5kg','2kg','1kg','2kg','1kg','2kg','1kg','2kg','1kg']\n",
    "\n",
    "# saving dataframe into new variable\n",
    "fruitdata = Fruitsdf\n",
    "\n",
    "fruitdata['weight'] = weight\n",
    "\n"
   ]
  },
  {
   "cell_type": "code",
   "execution_count": 10,
   "metadata": {
    "colab": {
     "base_uri": "https://localhost:8080/",
     "height": 175
    },
    "id": "G_QpGKeFX104",
    "outputId": "9dd387d4-18be-4c76-fe34-846cf11b50ae"
   },
   "outputs": [
    {
     "data": {
      "text/html": [
       "<div>\n",
       "<style scoped>\n",
       "    .dataframe tbody tr th:only-of-type {\n",
       "        vertical-align: middle;\n",
       "    }\n",
       "\n",
       "    .dataframe tbody tr th {\n",
       "        vertical-align: top;\n",
       "    }\n",
       "\n",
       "    .dataframe thead th {\n",
       "        text-align: right;\n",
       "    }\n",
       "</style>\n",
       "<table border=\"1\" class=\"dataframe\">\n",
       "  <thead>\n",
       "    <tr style=\"text-align: right;\">\n",
       "      <th>weight</th>\n",
       "      <th>name</th>\n",
       "      <th>1.5kg</th>\n",
       "      <th>1kg</th>\n",
       "      <th>2.5kg</th>\n",
       "      <th>2kg</th>\n",
       "      <th>3kg</th>\n",
       "    </tr>\n",
       "  </thead>\n",
       "  <tbody>\n",
       "    <tr>\n",
       "      <th>0</th>\n",
       "      <td>Apple</td>\n",
       "      <td>2</td>\n",
       "      <td>1</td>\n",
       "      <td>1</td>\n",
       "      <td>2</td>\n",
       "      <td>0</td>\n",
       "    </tr>\n",
       "    <tr>\n",
       "      <th>1</th>\n",
       "      <td>Grapes</td>\n",
       "      <td>0</td>\n",
       "      <td>3</td>\n",
       "      <td>1</td>\n",
       "      <td>1</td>\n",
       "      <td>1</td>\n",
       "    </tr>\n",
       "    <tr>\n",
       "      <th>2</th>\n",
       "      <td>Orange</td>\n",
       "      <td>1</td>\n",
       "      <td>5</td>\n",
       "      <td>0</td>\n",
       "      <td>1</td>\n",
       "      <td>0</td>\n",
       "    </tr>\n",
       "    <tr>\n",
       "      <th>3</th>\n",
       "      <td>Watermelon</td>\n",
       "      <td>1</td>\n",
       "      <td>1</td>\n",
       "      <td>0</td>\n",
       "      <td>2</td>\n",
       "      <td>0</td>\n",
       "    </tr>\n",
       "  </tbody>\n",
       "</table>\n",
       "</div>"
      ],
      "text/plain": [
       "weight        name  1.5kg  1kg  2.5kg  2kg  3kg\n",
       "0            Apple      2    1      1    2    0\n",
       "1           Grapes      0    3      1    1    1\n",
       "2           Orange      1    5      0    1    0\n",
       "3       Watermelon      1    1      0    2    0"
      ]
     },
     "execution_count": 10,
     "metadata": {},
     "output_type": "execute_result"
    }
   ],
   "source": [
    "\n",
    "FreqData = pd.crosstab(index=fruitdata[\"name\"],columns=fruitdata[\"weight\"])\n",
    "FreqData.reset_index()"
   ]
  },
  {
   "cell_type": "code",
   "execution_count": 11,
   "metadata": {
    "colab": {
     "base_uri": "https://localhost:8080/",
     "height": 538
    },
    "id": "kOmvd0sXX-ui",
    "outputId": "e08190c7-768b-4f7b-f566-a6bbd2ff9d66"
   },
   "outputs": [
    {
     "data": {
      "text/plain": [
       "Text(0.5, 0, 'Fruit names')"
      ]
     },
     "execution_count": 11,
     "metadata": {},
     "output_type": "execute_result"
    },
    {
     "data": {
      "image/png": "[encoded data removed]",
      "text/plain": [
       "<Figure size 504x504 with 1 Axes>"
      ]
     },
     "metadata": {
      "needs_background": "light"
     },
     "output_type": "display_data"
    }
   ],
   "source": [
    "Stackedbar = FreqData.plot(kind=\"bar\",figsize=(7,7),stacked=True,title='Stacked Bar Chart',fontsize=12)\n",
    "Stackedbar.set_ylabel(\"Count\",fontsize=12)\n",
    "Stackedbar.set_xlabel(\"Fruit names\",fontsize=10)"
   ]
  },
  {
   "cell_type": "code",
   "execution_count": 12,
   "metadata": {
    "colab": {
     "base_uri": "https://localhost:8080/"
    },
    "id": "16vBQrzcYHO1",
    "outputId": "3432b7c5-6d1e-4dac-e93d-ebdf2ee95425"
   },
   "outputs": [
    {
     "data": {
      "text/plain": [
       "40.0"
      ]
     },
     "execution_count": 12,
     "metadata": {},
     "output_type": "execute_result"
    }
   ],
   "source": [
    "Fruitsdf['price'].median()"
   ]
  },
  {
   "cell_type": "code",
   "execution_count": 13,
   "metadata": {
    "colab": {
     "base_uri": "https://localhost:8080/"
    },
    "id": "hO0AA57aYO7v",
    "outputId": "0bcb5d84-d591-400d-f38d-c8de9e0a9e07"
   },
   "outputs": [
    {
     "data": {
      "text/plain": [
       "39.130434782608695"
      ]
     },
     "execution_count": 13,
     "metadata": {},
     "output_type": "execute_result"
    }
   ],
   "source": [
    "Fruitsdf['price'].mean()"
   ]
  },
  {
   "cell_type": "code",
   "execution_count": 14,
   "metadata": {
    "colab": {
     "base_uri": "https://localhost:8080/"
    },
    "id": "iIH5QTVxYRuy",
    "outputId": "767a7dfb-96c3-44b6-e715-5d90cd9bd753"
   },
   "outputs": [
    {
     "data": {
      "text/plain": [
       "0    40\n",
       "Name: price, dtype: int64"
      ]
     },
     "execution_count": 14,
     "metadata": {},
     "output_type": "execute_result"
    }
   ],
   "source": [
    "Fruitsdf['price'].mode()"
   ]
  },
  {
   "cell_type": "code",
   "execution_count": 15,
   "metadata": {
    "id": "dAoscwEvYVL8"
   },
   "outputs": [],
   "source": [
    "Fruitsdf.loc[len(Fruitsdf.index)] = [100,'Apple','2kg'] "
   ]
  },
  {
   "cell_type": "code",
   "execution_count": 16,
   "metadata": {
    "colab": {
     "base_uri": "https://localhost:8080/",
     "height": 802
    },
    "id": "G-Puiw7nYeHK",
    "outputId": "eb2740af-1c16-4f2c-a7df-b975d02ede53"
   },
   "outputs": [
    {
     "data": {
      "text/html": [
       "<div>\n",
       "<style scoped>\n",
       "    .dataframe tbody tr th:only-of-type {\n",
       "        vertical-align: middle;\n",
       "    }\n",
       "\n",
       "    .dataframe tbody tr th {\n",
       "        vertical-align: top;\n",
       "    }\n",
       "\n",
       "    .dataframe thead th {\n",
       "        text-align: right;\n",
       "    }\n",
       "</style>\n",
       "<table border=\"1\" class=\"dataframe\">\n",
       "  <thead>\n",
       "    <tr style=\"text-align: right;\">\n",
       "      <th></th>\n",
       "      <th>price</th>\n",
       "      <th>name</th>\n",
       "      <th>weight</th>\n",
       "    </tr>\n",
       "  </thead>\n",
       "  <tbody>\n",
       "    <tr>\n",
       "      <th>0</th>\n",
       "      <td>40</td>\n",
       "      <td>Orange</td>\n",
       "      <td>1kg</td>\n",
       "    </tr>\n",
       "    <tr>\n",
       "      <th>1</th>\n",
       "      <td>30</td>\n",
       "      <td>Apple</td>\n",
       "      <td>2kg</td>\n",
       "    </tr>\n",
       "    <tr>\n",
       "      <th>2</th>\n",
       "      <td>40</td>\n",
       "      <td>Orange</td>\n",
       "      <td>1kg</td>\n",
       "    </tr>\n",
       "    <tr>\n",
       "      <th>3</th>\n",
       "      <td>30</td>\n",
       "      <td>Apple</td>\n",
       "      <td>1.5kg</td>\n",
       "    </tr>\n",
       "    <tr>\n",
       "      <th>4</th>\n",
       "      <td>40</td>\n",
       "      <td>Orange</td>\n",
       "      <td>1kg</td>\n",
       "    </tr>\n",
       "    <tr>\n",
       "      <th>5</th>\n",
       "      <td>30</td>\n",
       "      <td>Apple</td>\n",
       "      <td>1.5kg</td>\n",
       "    </tr>\n",
       "    <tr>\n",
       "      <th>6</th>\n",
       "      <td>40</td>\n",
       "      <td>Orange</td>\n",
       "      <td>2kg</td>\n",
       "    </tr>\n",
       "    <tr>\n",
       "      <th>7</th>\n",
       "      <td>40</td>\n",
       "      <td>Grapes</td>\n",
       "      <td>2.5kg</td>\n",
       "    </tr>\n",
       "    <tr>\n",
       "      <th>8</th>\n",
       "      <td>40</td>\n",
       "      <td>Grapes</td>\n",
       "      <td>3kg</td>\n",
       "    </tr>\n",
       "    <tr>\n",
       "      <th>9</th>\n",
       "      <td>40</td>\n",
       "      <td>Orange</td>\n",
       "      <td>1.5kg</td>\n",
       "    </tr>\n",
       "    <tr>\n",
       "      <th>10</th>\n",
       "      <td>40</td>\n",
       "      <td>Grapes</td>\n",
       "      <td>1kg</td>\n",
       "    </tr>\n",
       "    <tr>\n",
       "      <th>11</th>\n",
       "      <td>30</td>\n",
       "      <td>Apple</td>\n",
       "      <td>2.5kg</td>\n",
       "    </tr>\n",
       "    <tr>\n",
       "      <th>12</th>\n",
       "      <td>40</td>\n",
       "      <td>Orange</td>\n",
       "      <td>1kg</td>\n",
       "    </tr>\n",
       "    <tr>\n",
       "      <th>13</th>\n",
       "      <td>40</td>\n",
       "      <td>Grapes</td>\n",
       "      <td>1kg</td>\n",
       "    </tr>\n",
       "    <tr>\n",
       "      <th>14</th>\n",
       "      <td>50</td>\n",
       "      <td>Watermelon</td>\n",
       "      <td>1.5kg</td>\n",
       "    </tr>\n",
       "    <tr>\n",
       "      <th>15</th>\n",
       "      <td>50</td>\n",
       "      <td>Watermelon</td>\n",
       "      <td>2kg</td>\n",
       "    </tr>\n",
       "    <tr>\n",
       "      <th>16</th>\n",
       "      <td>40</td>\n",
       "      <td>Grapes</td>\n",
       "      <td>1kg</td>\n",
       "    </tr>\n",
       "    <tr>\n",
       "      <th>17</th>\n",
       "      <td>50</td>\n",
       "      <td>Watermelon</td>\n",
       "      <td>2kg</td>\n",
       "    </tr>\n",
       "    <tr>\n",
       "      <th>18</th>\n",
       "      <td>50</td>\n",
       "      <td>Watermelon</td>\n",
       "      <td>1kg</td>\n",
       "    </tr>\n",
       "    <tr>\n",
       "      <th>19</th>\n",
       "      <td>40</td>\n",
       "      <td>Grapes</td>\n",
       "      <td>2kg</td>\n",
       "    </tr>\n",
       "    <tr>\n",
       "      <th>20</th>\n",
       "      <td>40</td>\n",
       "      <td>Orange</td>\n",
       "      <td>1kg</td>\n",
       "    </tr>\n",
       "    <tr>\n",
       "      <th>21</th>\n",
       "      <td>30</td>\n",
       "      <td>Apple</td>\n",
       "      <td>2kg</td>\n",
       "    </tr>\n",
       "    <tr>\n",
       "      <th>22</th>\n",
       "      <td>30</td>\n",
       "      <td>Apple</td>\n",
       "      <td>1kg</td>\n",
       "    </tr>\n",
       "    <tr>\n",
       "      <th>23</th>\n",
       "      <td>100</td>\n",
       "      <td>Apple</td>\n",
       "      <td>2kg</td>\n",
       "    </tr>\n",
       "  </tbody>\n",
       "</table>\n",
       "</div>"
      ],
      "text/plain": [
       "    price        name weight\n",
       "0      40      Orange    1kg\n",
       "1      30       Apple    2kg\n",
       "2      40      Orange    1kg\n",
       "3      30       Apple  1.5kg\n",
       "4      40      Orange    1kg\n",
       "5      30       Apple  1.5kg\n",
       "6      40      Orange    2kg\n",
       "7      40      Grapes  2.5kg\n",
       "8      40      Grapes    3kg\n",
       "9      40      Orange  1.5kg\n",
       "10     40      Grapes    1kg\n",
       "11     30       Apple  2.5kg\n",
       "12     40      Orange    1kg\n",
       "13     40      Grapes    1kg\n",
       "14     50  Watermelon  1.5kg\n",
       "15     50  Watermelon    2kg\n",
       "16     40      Grapes    1kg\n",
       "17     50  Watermelon    2kg\n",
       "18     50  Watermelon    1kg\n",
       "19     40      Grapes    2kg\n",
       "20     40      Orange    1kg\n",
       "21     30       Apple    2kg\n",
       "22     30       Apple    1kg\n",
       "23    100       Apple    2kg"
      ]
     },
     "execution_count": 16,
     "metadata": {},
     "output_type": "execute_result"
    }
   ],
   "source": [
    "Fruitsdf.head(25)"
   ]
  },
  {
   "cell_type": "code",
   "execution_count": 17,
   "metadata": {
    "colab": {
     "base_uri": "https://localhost:8080/"
    },
    "id": "fHN5BgUPYowW",
    "outputId": "5bfc8e9f-cc9c-45f1-e183-3415f7fbfe2f"
   },
   "outputs": [
    {
     "data": {
      "text/plain": [
       "41.666666666666664"
      ]
     },
     "execution_count": 17,
     "metadata": {},
     "output_type": "execute_result"
    }
   ],
   "source": [
    "Fruitsdf['price'].mean()"
   ]
  },
  {
   "cell_type": "code",
   "execution_count": 18,
   "metadata": {
    "colab": {
     "base_uri": "https://localhost:8080/"
    },
    "id": "y87axWnJY3Ta",
    "outputId": "0c0821ac-88ec-431d-d147-745bac112c93"
   },
   "outputs": [
    {
     "data": {
      "text/plain": [
       "40.0"
      ]
     },
     "execution_count": 18,
     "metadata": {},
     "output_type": "execute_result"
    }
   ],
   "source": [
    "Fruitsdf['price'].median()"
   ]
  },
  {
   "cell_type": "code",
   "execution_count": 19,
   "metadata": {
    "colab": {
     "base_uri": "https://localhost:8080/"
    },
    "id": "hUgKd50nY3_P",
    "outputId": "fcbd63c0-652b-419b-eeb9-e9ae98e092a6"
   },
   "outputs": [
    {
     "data": {
      "text/plain": [
       "0    40\n",
       "Name: price, dtype: int64"
      ]
     },
     "execution_count": 19,
     "metadata": {},
     "output_type": "execute_result"
    }
   ],
   "source": [
    "Fruitsdf['price'].mode()"
   ]
  },
  {
   "cell_type": "code",
   "execution_count": 20,
   "metadata": {
    "colab": {
     "base_uri": "https://localhost:8080/",
     "height": 458
    },
    "id": "hFdfNeZSZPul",
    "outputId": "febfe5fc-785b-415d-c730-2b4163516a1d"
   },
   "outputs": [
    {
     "data": {
      "text/plain": [
       "<seaborn.axisgrid.JointGrid at 0x23b62bfccd0>"
      ]
     },
     "execution_count": 20,
     "metadata": {},
     "output_type": "execute_result"
    },
    {
     "data": {
      "image/png": "[encoded data removed]",
      "text/plain": [
       "<Figure size 432x432 with 3 Axes>"
      ]
     },
     "metadata": {
      "needs_background": "light"
     },
     "output_type": "display_data"
    }
   ],
   "source": [
    "sns.jointplot(x=\"name\", y=\"price\", data=Fruitsdf)"
   ]
  },
  {
   "cell_type": "code",
   "execution_count": 21,
   "metadata": {
    "colab": {
     "base_uri": "https://localhost:8080/"
    },
    "id": "2o_4MkCgaJ16",
    "outputId": "b800429e-c849-479e-a781-cbefd7000e11"
   },
   "outputs": [
    {
     "data": {
      "text/plain": [
       "30"
      ]
     },
     "execution_count": 21,
     "metadata": {},
     "output_type": "execute_result"
    }
   ],
   "source": [
    "Fruitsdf['price'].min()"
   ]
  },
  {
   "cell_type": "code",
   "execution_count": 22,
   "metadata": {
    "colab": {
     "base_uri": "https://localhost:8080/"
    },
    "id": "rqK6rY4maMll",
    "outputId": "5beb40d3-f43d-4dee-d48d-1a299ed2e52e"
   },
   "outputs": [
    {
     "data": {
      "text/plain": [
       "0    40\n",
       "Name: price, dtype: int64"
      ]
     },
     "execution_count": 22,
     "metadata": {},
     "output_type": "execute_result"
    }
   ],
   "source": [
    "Fruitsdf['price'].mode()"
   ]
  },
  {
   "cell_type": "code",
   "execution_count": 23,
   "metadata": {
    "colab": {
     "base_uri": "https://localhost:8080/"
    },
    "id": "UitbAi3YaMQT",
    "outputId": "962ef51d-813a-42ea-8e08-b12cd2b3adaa"
   },
   "outputs": [
    {
     "data": {
      "text/plain": [
       "40.0"
      ]
     },
     "execution_count": 23,
     "metadata": {},
     "output_type": "execute_result"
    }
   ],
   "source": [
    "Fruitsdf['price'].median()"
   ]
  },
  {
   "cell_type": "code",
   "execution_count": 24,
   "metadata": {
    "colab": {
     "base_uri": "https://localhost:8080/"
    },
    "id": "mEZ0NwUhaP-J",
    "outputId": "429771ed-889b-4215-98a3-bb7c3782a4b8"
   },
   "outputs": [
    {
     "data": {
      "text/plain": [
       "41.666666666666664"
      ]
     },
     "execution_count": 24,
     "metadata": {},
     "output_type": "execute_result"
    }
   ],
   "source": [
    "Fruitsdf['price'].mean()"
   ]
  },
  {
   "cell_type": "code",
   "execution_count": 25,
   "metadata": {
    "colab": {
     "base_uri": "https://localhost:8080/"
    },
    "id": "ildNn943aWcV",
    "outputId": "b9d65894-8452-44c7-dbfb-4289f0b84cf6"
   },
   "outputs": [
    {
     "data": {
      "text/plain": [
       "100"
      ]
     },
     "execution_count": 25,
     "metadata": {},
     "output_type": "execute_result"
    }
   ],
   "source": [
    "Fruitsdf['price'].max()"
   ]
  },
  {
   "cell_type": "code",
   "execution_count": 26,
   "metadata": {
    "colab": {
     "base_uri": "https://localhost:8080/"
    },
    "id": "CvswHg1AaXx0",
    "outputId": "f4c3d0c7-72d7-44bd-b60b-5360441bd1ba"
   },
   "outputs": [
    {
     "data": {
      "text/plain": [
       "50.0"
      ]
     },
     "execution_count": 26,
     "metadata": {},
     "output_type": "execute_result"
    }
   ],
   "source": [
    "Fruitsdf['price'].quantile(.9)"
   ]
  },
  {
   "cell_type": "code",
   "execution_count": 27,
   "metadata": {
    "colab": {
     "base_uri": "https://localhost:8080/"
    },
    "id": "S4rJ_Af6akTs",
    "outputId": "50ce293c-6ad1-495a-c067-720cc1374b39"
   },
   "outputs": [
    {
     "data": {
      "text/plain": [
       "14.039282363260677"
      ]
     },
     "execution_count": 27,
     "metadata": {},
     "output_type": "execute_result"
    }
   ],
   "source": [
    "Fruitsdf['price'].std()"
   ]
  },
  {
   "cell_type": "code",
   "execution_count": 28,
   "metadata": {
    "colab": {
     "base_uri": "https://localhost:8080/"
    },
    "id": "9rvSfHr8amMb",
    "outputId": "a10dc5ee-f67b-4dbb-eb50-a5758a3ed359"
   },
   "outputs": [
    {
     "data": {
      "text/plain": [
       "count     24.000000\n",
       "mean      41.666667\n",
       "std       14.039282\n",
       "min       30.000000\n",
       "25%       37.500000\n",
       "50%       40.000000\n",
       "75%       40.000000\n",
       "max      100.000000\n",
       "Name: price, dtype: float64"
      ]
     },
     "execution_count": 28,
     "metadata": {},
     "output_type": "execute_result"
    }
   ],
   "source": [
    "Fruitsdf['price'].describe()"
   ]
  },
  {
   "cell_type": "code",
   "execution_count": 29,
   "metadata": {
    "colab": {
     "base_uri": "https://localhost:8080/"
    },
    "id": "0x148I6Kao_1",
    "outputId": "2739cff0-84cc-4441-910b-eec1a30e5c1b"
   },
   "outputs": [
    {
     "name": "stderr",
     "output_type": "stream",
     "text": [
      "C:\\Users\\Brendan\\AppData\\Local\\Temp\\ipykernel_17220\\4275030688.py:1: FutureWarning: Dropping of nuisance columns in DataFrame reductions (with 'numeric_only=None') is deprecated; in a future version this will raise TypeError.  Select only valid columns before calling the reduction.\n",
      "  Fruitsdf.skew()\n"
     ]
    },
    {
     "data": {
      "text/plain": [
       "price    3.277663\n",
       "dtype: float64"
      ]
     },
     "execution_count": 29,
     "metadata": {},
     "output_type": "execute_result"
    }
   ],
   "source": [
    "Fruitsdf.skew()"
   ]
  },
  {
   "cell_type": "code",
   "execution_count": 30,
   "metadata": {
    "colab": {
     "base_uri": "https://localhost:8080/"
    },
    "id": "ebQidlFXbCjs",
    "outputId": "19fd1600-b811-4bfe-b021-a872573fb671"
   },
   "outputs": [
    {
     "name": "stderr",
     "output_type": "stream",
     "text": [
      "C:\\Users\\Brendan\\AppData\\Local\\Temp\\ipykernel_17220\\1599929789.py:1: FutureWarning: Dropping of nuisance columns in DataFrame reductions (with 'numeric_only=None') is deprecated; in a future version this will raise TypeError.  Select only valid columns before calling the reduction.\n",
      "  Fruitsdf.kurt()\n"
     ]
    },
    {
     "data": {
      "text/plain": [
       "price    13.584094\n",
       "dtype: float64"
      ]
     },
     "execution_count": 30,
     "metadata": {},
     "output_type": "execute_result"
    }
   ],
   "source": [
    "Fruitsdf.kurt()"
   ]
  },
  {
   "cell_type": "code",
   "execution_count": 31,
   "metadata": {
    "id": "B7EsJ7Vbb3SV"
   },
   "outputs": [],
   "source": [
    "details = {\"student\":[\"c1\",\"c2\",\"c3\",\"c4\",\"c5\",\"c6\",\"c7\",\"c8\",\"c9\",\"c10\",\"c11\",\"c12\",\"c13\",\"c14\",\"c15\",\"c16\"],\n",
    "\"score\":[56,62,63,66,67,70,75,72,72,71,76,78,80,82,83,86]}\n",
    "\n",
    "\n",
    "students = pd.DataFrame(details)"
   ]
  },
  {
   "cell_type": "code",
   "execution_count": 32,
   "metadata": {
    "colab": {
     "base_uri": "https://localhost:8080/",
     "height": 371
    },
    "id": "MfIJBT6abJxU",
    "outputId": "48e21c67-1d47-4899-ebb6-4ca13948df60"
   },
   "outputs": [
    {
     "data": {
      "text/plain": [
       "array([[<AxesSubplot:title={'center':'score'}>]], dtype=object)"
      ]
     },
     "execution_count": 32,
     "metadata": {},
     "output_type": "execute_result"
    },
    {
     "data": {
      "image/png": "[encoded data removed]",
      "text/plain": [
       "<Figure size 360x360 with 1 Axes>"
      ]
     },
     "metadata": {
      "needs_background": "light"
     },
     "output_type": "display_data"
    }
   ],
   "source": [
    "students.hist(column=\"score\",figsize=(5,5),color=\"blue\",bins=5,range=(50,90))"
   ]
  },
  {
   "cell_type": "code",
   "execution_count": 33,
   "metadata": {
    "colab": {
     "base_uri": "https://localhost:8080/",
     "height": 500
    },
    "id": "XhegEKRCbfMl",
    "outputId": "f0d78e6a-6c33-4720-d28a-b365a8822c39"
   },
   "outputs": [
    {
     "data": {
      "text/plain": [
       "<AxesSubplot:ylabel='Density'>"
      ]
     },
     "execution_count": 33,
     "metadata": {},
     "output_type": "execute_result"
    },
    {
     "data": {
      "image/png": "[encoded data removed]",
      "text/plain": [
       "<Figure size 576x576 with 1 Axes>"
      ]
     },
     "metadata": {
      "needs_background": "light"
     },
     "output_type": "display_data"
    }
   ],
   "source": [
    "students.plot(kind='density',figsize=(8,8))"
   ]
  },
  {
   "cell_type": "markdown",
   "metadata": {
    "id": "zFjjtKheeTrN"
   },
   "source": [
    "# Inferential Statistical Analysis\n",
    "\n",
    "###### https://brainalystacademy.com/inferential-statistics-in-python/"
   ]
  },
  {
   "cell_type": "code",
   "execution_count": 34,
   "metadata": {
    "colab": {
     "base_uri": "https://localhost:8080/"
    },
    "id": "LGN5otmfd2Yn",
    "outputId": "aaf3c8d2-b426-42e9-8f58-1b6fdec4098a"
   },
   "outputs": [
    {
     "data": {
      "text/plain": [
       "array([-0.08660476,  0.13662837, -0.81337952, -1.79269639, -0.35347081,\n",
       "        0.13905242,  1.62653867,  1.14393202])"
      ]
     },
     "execution_count": 34,
     "metadata": {},
     "output_type": "execute_result"
    }
   ],
   "source": [
    "import numpy as np\n",
    "import scipy.stats as stats\n",
    "\n",
    "a = np.array([0.8976,0.9989,0.5678,0.1234,0.7765,1,1.675,1.456])\n",
    "stats.zscore(a)"
   ]
  },
  {
   "cell_type": "code",
   "execution_count": 35,
   "metadata": {
    "colab": {
     "base_uri": "https://localhost:8080/"
    },
    "id": "bzL3yxoifaCw",
    "outputId": "5efe4b81-29c9-4aae-ece3-a6518936fea8"
   },
   "outputs": [
    {
     "data": {
      "text/plain": [
       "array([[-1.22576827, -0.3486311 ,  0.52587439,  1.04852498],\n",
       "       [-0.67641081,  0.03847117,  1.40005837, -0.76211873],\n",
       "       [-0.88942498,  1.37202025, -0.56536131,  0.08276604]])"
      ]
     },
     "execution_count": 35,
     "metadata": {},
     "output_type": "execute_result"
    }
   ],
   "source": [
    "a = np.array([[0.1234,0.4567,0.7890,0.9876],\n",
    "             [0.6789,0.7890,0.9987,0.6657],\n",
    "             [0.2234,0.9987,0.3345,0.5567]])\n",
    "\n",
    "stats.zscore(a,axis=1,ddof=1)"
   ]
  },
  {
   "cell_type": "code",
   "execution_count": 36,
   "metadata": {
    "colab": {
     "base_uri": "https://localhost:8080/"
    },
    "id": "mQN3yg4Mff-9",
    "outputId": "702cb49d-27f5-420e-e223-974a3af3c01c"
   },
   "outputs": [
    {
     "data": {
      "text/plain": [
       "array([[        nan,         nan,         nan,         nan],\n",
       "       [-0.78105192,  0.04442268,  1.61664815, -0.88001891],\n",
       "       [        nan,         nan,         nan,         nan]])"
      ]
     },
     "execution_count": 36,
     "metadata": {},
     "output_type": "execute_result"
    }
   ],
   "source": [
    "a = np.array([[0.1234,np.nan,0.7890,0.9876],\n",
    "             [0.6789,0.7890,0.9987,0.6657],\n",
    "             [np.nan,0.9987,0.3345,np.nan]])\n",
    "\n",
    "\n",
    "stats.zscore(a,axis=1)"
   ]
  },
  {
   "cell_type": "code",
   "execution_count": 37,
   "metadata": {
    "colab": {
     "base_uri": "https://localhost:8080/"
    },
    "id": "_6Qiwp6dfl3z",
    "outputId": "8d4b343b-d657-4e47-bc7c-8b81f55c93bb"
   },
   "outputs": [
    {
     "data": {
      "text/plain": [
       "array([[-1.37976297,         nan,  0.4211984 ,  0.95856458],\n",
       "       [-0.78105192,  0.04442268,  1.61664815, -0.88001891],\n",
       "       [        nan,  1.        , -1.        ,         nan]])"
      ]
     },
     "execution_count": 37,
     "metadata": {},
     "output_type": "execute_result"
    }
   ],
   "source": [
    "a = np.array([[0.1234,np.nan,0.7890,0.9876],\n",
    "             [0.6789,0.7890,0.9987,0.6657],\n",
    "             [np.nan,0.9987,0.3345,np.nan]])\n",
    "\n",
    "stats.zscore(a,axis=1,nan_policy='omit') "
   ]
  },
  {
   "cell_type": "code",
   "execution_count": 38,
   "metadata": {
    "colab": {
     "base_uri": "https://localhost:8080/"
    },
    "id": "np0-CCUpfuOS",
    "outputId": "1f124577-612b-44b0-ae0f-bf06e8e34e5e"
   },
   "outputs": [
    {
     "data": {
      "text/plain": [
       "(0.5547001962252289, 0.5790997419539189)"
      ]
     },
     "execution_count": 38,
     "metadata": {},
     "output_type": "execute_result"
    }
   ],
   "source": [
    "import numpy as np\n",
    "import pandas as pd\n",
    "from numpy.random import randn\n",
    "from statsmodels.stats.weightstats import ztest\n",
    "\n",
    "x1 = [20, 30, 40, 50, 10, 20]\n",
    "z = ztest(x1,value= 25) # where value is a mean value\n",
    "z\n"
   ]
  },
  {
   "cell_type": "code",
   "execution_count": 39,
   "metadata": {
    "colab": {
     "base_uri": "https://localhost:8080/"
    },
    "id": "O1QfL_yefzZq",
    "outputId": "e7bace0d-76c3-4ee7-b2c4-8d59f3d76ac1"
   },
   "outputs": [
    {
     "data": {
      "text/plain": [
       "(2.448717008689441, 0.007168301924196878)"
      ]
     },
     "execution_count": 39,
     "metadata": {},
     "output_type": "execute_result"
    }
   ],
   "source": [
    "x1 = [20, 30, 40, 50, 10, 20]\n",
    "x2 = [11, 12, 13, 14, 15, 16]\n",
    "\n",
    "z=ztest(x1, x2, value= 0, alternative = 'larger')\n",
    "z"
   ]
  },
  {
   "cell_type": "code",
   "execution_count": 40,
   "metadata": {
    "colab": {
     "base_uri": "https://localhost:8080/"
    },
    "id": "LZi--Sm9f9h5",
    "outputId": "5f45abee-91b2-4d2e-d029-db8ec0a8653e"
   },
   "outputs": [
    {
     "data": {
      "text/plain": [
       "Ttest_indResult(statistic=-2.2331335038240865, pvalue=0.042379219768910015)"
      ]
     },
     "execution_count": 40,
     "metadata": {},
     "output_type": "execute_result"
    }
   ],
   "source": [
    "import scipy.stats as stats\n",
    "\n",
    "a = np.array([5,6,7,8,2,3,4,5])\n",
    "b = np.array([12,13,14,15,16,2,3,4])\n",
    "\n",
    "stats.ttest_ind(a, b, equal_var=True) # Assuming that the 2 groups have equal variance"
   ]
  },
  {
   "cell_type": "code",
   "execution_count": 41,
   "metadata": {
    "colab": {
     "base_uri": "https://localhost:8080/"
    },
    "id": "e1xwiIrSgBmY",
    "outputId": "e4baf790-7567-4e25-ed32-e53cd9387a9b"
   },
   "outputs": [
    {
     "data": {
      "text/plain": [
       "Ttest_indResult(statistic=-2.2331335038240865, pvalue=0.05369587840008499)"
      ]
     },
     "execution_count": 41,
     "metadata": {},
     "output_type": "execute_result"
    }
   ],
   "source": [
    "stats.ttest_ind(a, b, equal_var=False) # Assuming that the 2 groups doesn't have equal variance"
   ]
  },
  {
   "cell_type": "code",
   "execution_count": 42,
   "metadata": {
    "colab": {
     "base_uri": "https://localhost:8080/"
    },
    "id": "H24E6dhwgFuA",
    "outputId": "dd0a91c3-355d-4686-db5b-416c38606899"
   },
   "outputs": [
    {
     "data": {
      "text/plain": [
       "(0.2963188789948769, 0.7713367820262194, 14.0)"
      ]
     },
     "execution_count": 42,
     "metadata": {},
     "output_type": "execute_result"
    }
   ],
   "source": [
    "from statsmodels.stats.weightstats import ttest_ind\n",
    "\n",
    "a = np.array([12,14,16,4,5,11,12,11])\n",
    "b = np.array([12,13,14,15,16,2,3,4])\n",
    "\n",
    "ttest_ind(a,b)"
   ]
  },
  {
   "cell_type": "code",
   "execution_count": 43,
   "metadata": {
    "colab": {
     "base_uri": "https://localhost:8080/"
    },
    "id": "CJ0ShfP5gMDF",
    "outputId": "2fb3cae0-5a06-4a91-dc57-2b844e601318"
   },
   "outputs": [
    {
     "data": {
      "text/plain": [
       "Ttest_relResult(statistic=0.2635521911161371, pvalue=0.7997147761519708)"
      ]
     },
     "execution_count": 43,
     "metadata": {},
     "output_type": "execute_result"
    }
   ],
   "source": [
    "import scipy.stats as stats\n",
    "\n",
    "a = np.array([12, 14, 16, 4, 5, 11, 12, 11])\n",
    "b = np.array([12, 13, 14, 15, 16, 2, 3, 4])\n",
    "\n",
    "stats.ttest_rel(a,b)"
   ]
  },
  {
   "cell_type": "code",
   "execution_count": 44,
   "metadata": {
    "colab": {
     "base_uri": "https://localhost:8080/"
    },
    "id": "X-j7UYdJgM-Q",
    "outputId": "ccc16748-99dc-4fea-f1e6-9e8c5dbae5b9"
   },
   "outputs": [
    {
     "data": {
      "text/plain": [
       "array(['mumbai', 'delhi', 'delhi', 'mumbai', 'punjab', 'hyderabad',\n",
       "       'delhi', 'hyderabad', 'mumbai', 'mumbai', 'mumbai', 'bangalore',\n",
       "       'hyderabad', 'mumbai', 'mumbai', 'hyderabad', 'hyderabad',\n",
       "       'mumbai', 'mumbai', 'mumbai', 'hyderabad', 'delhi', 'mumbai',\n",
       "       'delhi', 'hyderabad', 'mumbai', 'mumbai', 'mumbai', 'delhi',\n",
       "       'mumbai', 'mumbai', 'mumbai', 'bangalore', 'hyderabad', 'mumbai',\n",
       "       'mumbai', 'hyderabad', 'mumbai', 'punjab', 'bangalore', 'mumbai',\n",
       "       'hyderabad', 'hyderabad', 'delhi', 'hyderabad', 'delhi', 'mumbai',\n",
       "       'mumbai', 'hyderabad', 'delhi', 'mumbai', 'mumbai', 'bangalore',\n",
       "       'hyderabad', 'mumbai', 'bangalore', 'mumbai', 'hyderabad',\n",
       "       'mumbai', 'mumbai', 'mumbai', 'delhi', 'hyderabad', 'mumbai',\n",
       "       'mumbai', 'delhi', 'hyderabad', 'hyderabad', 'hyderabad', 'mumbai',\n",
       "       'punjab', 'mumbai', 'mumbai', 'punjab', 'delhi', 'mumbai',\n",
       "       'mumbai', 'punjab', 'delhi', 'mumbai', 'hyderabad', 'mumbai',\n",
       "       'mumbai', 'mumbai', 'mumbai', 'delhi', 'hyderabad', 'hyderabad',\n",
       "       'delhi', 'delhi', 'delhi', 'punjab', 'bangalore', 'mumbai',\n",
       "       'punjab', 'hyderabad', 'hyderabad', 'hyderabad', 'bangalore',\n",
       "       'hyderabad', 'mumbai', 'mumbai', 'hyderabad', 'delhi', 'mumbai',\n",
       "       'delhi', 'bangalore', 'hyderabad', 'hyderabad', 'hyderabad',\n",
       "       'hyderabad', 'delhi', 'mumbai', 'delhi', 'mumbai', 'hyderabad',\n",
       "       'mumbai', 'hyderabad', 'delhi', 'bangalore', 'hyderabad', 'punjab',\n",
       "       'mumbai', 'delhi', 'hyderabad', 'hyderabad', 'mumbai', 'hyderabad',\n",
       "       'mumbai', 'hyderabad', 'mumbai', 'mumbai', 'mumbai', 'mumbai',\n",
       "       'punjab', 'delhi', 'hyderabad', 'hyderabad', 'hyderabad', 'mumbai',\n",
       "       'bangalore', 'hyderabad', 'mumbai', 'mumbai', 'mumbai',\n",
       "       'bangalore', 'delhi', 'mumbai', 'hyderabad', 'mumbai', 'bangalore',\n",
       "       'hyderabad', 'mumbai', 'mumbai', 'mumbai', 'delhi', 'mumbai',\n",
       "       'bangalore', 'mumbai', 'mumbai', 'mumbai', 'mumbai', 'mumbai',\n",
       "       'hyderabad', 'mumbai', 'hyderabad', 'mumbai', 'mumbai',\n",
       "       'hyderabad', 'delhi', 'mumbai', 'delhi', 'hyderabad', 'mumbai',\n",
       "       'hyderabad', 'mumbai', 'bangalore', 'mumbai', 'mumbai', 'mumbai',\n",
       "       'mumbai', 'mumbai', 'punjab', 'hyderabad', 'mumbai', 'mumbai',\n",
       "       'hyderabad', 'mumbai', 'hyderabad', 'hyderabad', 'mumbai', 'delhi',\n",
       "       'bangalore', 'mumbai', 'delhi', 'mumbai', 'mumbai', 'mumbai',\n",
       "       'bangalore', 'hyderabad', 'punjab', 'mumbai', 'mumbai', 'mumbai',\n",
       "       'hyderabad', 'delhi', 'mumbai', 'mumbai', 'hyderabad', 'mumbai',\n",
       "       'mumbai', 'bangalore', 'mumbai', 'mumbai', 'mumbai', 'hyderabad',\n",
       "       'mumbai', 'hyderabad', 'hyderabad', 'mumbai', 'punjab', 'mumbai',\n",
       "       'mumbai', 'mumbai', 'mumbai', 'mumbai', 'mumbai', 'hyderabad',\n",
       "       'mumbai', 'mumbai', 'hyderabad', 'hyderabad', 'hyderabad',\n",
       "       'punjab', 'delhi', 'mumbai', 'mumbai', 'mumbai', 'mumbai',\n",
       "       'mumbai', 'mumbai', 'delhi', 'delhi', 'punjab', 'mumbai', 'punjab',\n",
       "       'punjab', 'mumbai', 'mumbai', 'hyderabad', 'mumbai', 'mumbai',\n",
       "       'hyderabad', 'mumbai', 'mumbai', 'mumbai', 'mumbai', 'bangalore',\n",
       "       'mumbai', 'hyderabad', 'mumbai', 'mumbai', 'mumbai', 'hyderabad',\n",
       "       'delhi', 'bangalore', 'mumbai', 'mumbai', 'delhi', 'bangalore',\n",
       "       'hyderabad', 'mumbai', 'punjab', 'hyderabad', 'mumbai',\n",
       "       'hyderabad', 'hyderabad', 'hyderabad', 'delhi', 'hyderabad',\n",
       "       'mumbai', 'hyderabad', 'mumbai', 'mumbai', 'hyderabad', 'mumbai',\n",
       "       'hyderabad', 'mumbai', 'mumbai', 'mumbai', 'hyderabad', 'delhi',\n",
       "       'mumbai', 'delhi', 'mumbai', 'delhi', 'mumbai', 'delhi', 'mumbai',\n",
       "       'punjab', 'delhi', 'mumbai', 'mumbai', 'hyderabad', 'hyderabad',\n",
       "       'mumbai', 'delhi', 'hyderabad', 'hyderabad', 'hyderabad',\n",
       "       'bangalore', 'hyderabad', 'delhi', 'mumbai', 'hyderabad', 'mumbai',\n",
       "       'mumbai', 'hyderabad', 'hyderabad', 'mumbai', 'delhi', 'mumbai',\n",
       "       'mumbai', 'mumbai', 'hyderabad', 'mumbai', 'mumbai', 'delhi',\n",
       "       'hyderabad', 'hyderabad', 'mumbai', 'mumbai', 'mumbai', 'punjab',\n",
       "       'mumbai', 'mumbai', 'hyderabad', 'punjab', 'hyderabad', 'mumbai',\n",
       "       'mumbai', 'hyderabad', 'hyderabad', 'delhi', 'mumbai', 'delhi',\n",
       "       'delhi', 'delhi', 'delhi', 'hyderabad', 'mumbai', 'delhi',\n",
       "       'mumbai', 'mumbai', 'bangalore', 'hyderabad', 'bangalore',\n",
       "       'mumbai', 'mumbai', 'mumbai', 'mumbai', 'mumbai', 'delhi',\n",
       "       'hyderabad', 'mumbai', 'delhi', 'hyderabad', 'hyderabad', 'punjab',\n",
       "       'hyderabad', 'mumbai', 'mumbai', 'hyderabad', 'hyderabad',\n",
       "       'mumbai', 'mumbai', 'mumbai', 'hyderabad', 'hyderabad', 'mumbai',\n",
       "       'mumbai', 'mumbai', 'mumbai', 'mumbai', 'mumbai', 'mumbai',\n",
       "       'mumbai', 'delhi', 'hyderabad', 'hyderabad', 'delhi', 'mumbai',\n",
       "       'punjab', 'delhi', 'mumbai', 'mumbai', 'bangalore', 'mumbai',\n",
       "       'mumbai', 'hyderabad', 'mumbai', 'hyderabad', 'mumbai', 'mumbai',\n",
       "       'mumbai', 'hyderabad', 'hyderabad', 'hyderabad', 'mumbai',\n",
       "       'hyderabad', 'hyderabad', 'mumbai', 'hyderabad', 'mumbai',\n",
       "       'mumbai', 'hyderabad', 'delhi', 'mumbai', 'hyderabad', 'hyderabad',\n",
       "       'delhi', 'hyderabad', 'mumbai', 'hyderabad', 'mumbai', 'hyderabad',\n",
       "       'mumbai', 'mumbai', 'mumbai', 'mumbai', 'mumbai', 'punjab',\n",
       "       'punjab', 'mumbai', 'punjab', 'mumbai', 'mumbai', 'mumbai',\n",
       "       'mumbai', 'mumbai', 'hyderabad', 'hyderabad', 'hyderabad',\n",
       "       'mumbai', 'mumbai', 'mumbai', 'hyderabad', 'hyderabad', 'mumbai',\n",
       "       'mumbai', 'mumbai', 'mumbai', 'delhi', 'mumbai', 'mumbai',\n",
       "       'mumbai', 'mumbai', 'mumbai', 'hyderabad', 'delhi', 'mumbai',\n",
       "       'mumbai', 'mumbai', 'mumbai', 'delhi', 'delhi', 'mumbai',\n",
       "       'bangalore', 'mumbai', 'mumbai', 'delhi', 'mumbai', 'mumbai',\n",
       "       'mumbai', 'hyderabad', 'bangalore', 'delhi', 'mumbai', 'mumbai',\n",
       "       'mumbai', 'delhi', 'delhi', 'punjab', 'punjab', 'mumbai',\n",
       "       'hyderabad', 'mumbai', 'hyderabad', 'hyderabad', 'hyderabad',\n",
       "       'delhi', 'delhi', 'mumbai', 'delhi', 'mumbai', 'bangalore',\n",
       "       'mumbai', 'hyderabad', 'hyderabad', 'hyderabad', 'mumbai', 'delhi',\n",
       "       'hyderabad', 'mumbai', 'delhi', 'mumbai', 'mumbai', 'mumbai',\n",
       "       'mumbai', 'punjab', 'bangalore', 'hyderabad', 'delhi', 'hyderabad',\n",
       "       'mumbai', 'mumbai', 'hyderabad', 'hyderabad', 'delhi', 'bangalore',\n",
       "       'mumbai', 'mumbai', 'mumbai', 'delhi', 'delhi', 'mumbai', 'mumbai',\n",
       "       'hyderabad', 'delhi', 'mumbai', 'mumbai', 'punjab', 'mumbai',\n",
       "       'hyderabad', 'mumbai', 'mumbai', 'mumbai', 'mumbai', 'bangalore',\n",
       "       'mumbai', 'mumbai', 'hyderabad', 'mumbai', 'delhi', 'delhi',\n",
       "       'mumbai', 'mumbai', 'mumbai', 'mumbai', 'hyderabad', 'mumbai',\n",
       "       'hyderabad', 'bangalore', 'delhi', 'hyderabad', 'mumbai',\n",
       "       'hyderabad', 'delhi', 'hyderabad', 'mumbai', 'punjab', 'hyderabad',\n",
       "       'mumbai', 'hyderabad', 'mumbai', 'mumbai', 'hyderabad',\n",
       "       'hyderabad', 'punjab', 'delhi', 'mumbai', 'mumbai', 'punjab',\n",
       "       'hyderabad', 'hyderabad', 'punjab', 'hyderabad', 'mumbai',\n",
       "       'hyderabad', 'mumbai', 'delhi', 'mumbai', 'mumbai', 'punjab',\n",
       "       'punjab', 'delhi', 'hyderabad', 'hyderabad', 'mumbai', 'delhi',\n",
       "       'hyderabad', 'delhi', 'mumbai', 'mumbai', 'hyderabad', 'mumbai',\n",
       "       'mumbai', 'bangalore', 'mumbai', 'hyderabad', 'hyderabad',\n",
       "       'mumbai', 'mumbai', 'mumbai', 'mumbai', 'hyderabad', 'hyderabad',\n",
       "       'delhi', 'bangalore', 'bangalore', 'mumbai', 'mumbai', 'bangalore',\n",
       "       'hyderabad', 'mumbai', 'delhi', 'hyderabad', 'delhi', 'hyderabad',\n",
       "       'punjab', 'mumbai', 'delhi', 'mumbai', 'hyderabad', 'mumbai',\n",
       "       'mumbai', 'mumbai', 'hyderabad', 'mumbai', 'delhi', 'mumbai',\n",
       "       'mumbai', 'mumbai', 'mumbai', 'hyderabad', 'hyderabad', 'mumbai',\n",
       "       'delhi', 'punjab', 'hyderabad', 'mumbai', 'hyderabad', 'mumbai',\n",
       "       'hyderabad', 'mumbai', 'hyderabad', 'mumbai', 'hyderabad', 'delhi',\n",
       "       'delhi', 'mumbai', 'hyderabad', 'mumbai', 'mumbai', 'bangalore',\n",
       "       'mumbai', 'delhi', 'delhi', 'mumbai', 'mumbai', 'hyderabad',\n",
       "       'hyderabad', 'delhi', 'hyderabad', 'mumbai', 'mumbai', 'mumbai',\n",
       "       'mumbai', 'mumbai', 'mumbai', 'delhi', 'punjab', 'mumbai',\n",
       "       'mumbai', 'mumbai', 'mumbai', 'delhi', 'mumbai', 'hyderabad',\n",
       "       'mumbai', 'hyderabad', 'mumbai', 'delhi', 'mumbai', 'mumbai',\n",
       "       'mumbai', 'punjab', 'bangalore', 'mumbai', 'mumbai', 'mumbai',\n",
       "       'hyderabad', 'punjab', 'mumbai', 'mumbai', 'delhi', 'mumbai',\n",
       "       'hyderabad', 'hyderabad', 'mumbai', 'mumbai', 'mumbai', 'mumbai',\n",
       "       'hyderabad', 'bangalore', 'mumbai', 'hyderabad', 'mumbai',\n",
       "       'mumbai', 'mumbai', 'punjab', 'mumbai', 'mumbai', 'mumbai',\n",
       "       'hyderabad', 'mumbai', 'hyderabad', 'delhi', 'delhi', 'hyderabad',\n",
       "       'mumbai', 'bangalore', 'hyderabad', 'delhi', 'delhi', 'hyderabad',\n",
       "       'delhi', 'mumbai', 'hyderabad', 'hyderabad', 'punjab', 'mumbai',\n",
       "       'mumbai', 'punjab', 'mumbai', 'mumbai', 'mumbai', 'hyderabad',\n",
       "       'mumbai', 'mumbai', 'mumbai', 'mumbai', 'mumbai', 'delhi',\n",
       "       'punjab', 'bangalore', 'hyderabad', 'bangalore', 'mumbai',\n",
       "       'hyderabad', 'mumbai', 'punjab', 'hyderabad', 'hyderabad',\n",
       "       'mumbai', 'mumbai', 'delhi', 'punjab', 'delhi', 'mumbai',\n",
       "       'hyderabad', 'punjab', 'mumbai', 'mumbai', 'mumbai', 'mumbai',\n",
       "       'mumbai', 'mumbai', 'mumbai', 'mumbai', 'mumbai', 'mumbai',\n",
       "       'mumbai', 'delhi', 'mumbai', 'delhi', 'hyderabad', 'mumbai',\n",
       "       'mumbai', 'mumbai', 'punjab', 'mumbai', 'mumbai', 'mumbai',\n",
       "       'mumbai', 'mumbai', 'punjab', 'mumbai', 'delhi', 'mumbai',\n",
       "       'hyderabad', 'mumbai', 'hyderabad', 'mumbai', 'delhi', 'mumbai',\n",
       "       'mumbai', 'hyderabad', 'delhi', 'delhi', 'delhi', 'delhi',\n",
       "       'mumbai', 'mumbai', 'delhi', 'delhi', 'punjab', 'hyderabad',\n",
       "       'mumbai', 'bangalore', 'bangalore', 'delhi', 'punjab', 'mumbai',\n",
       "       'mumbai', 'hyderabad', 'mumbai', 'hyderabad', 'mumbai', 'mumbai',\n",
       "       'hyderabad', 'hyderabad', 'mumbai', 'hyderabad', 'mumbai',\n",
       "       'mumbai', 'mumbai', 'mumbai', 'mumbai', 'mumbai', 'delhi',\n",
       "       'mumbai', 'hyderabad', 'mumbai', 'mumbai', 'delhi', 'mumbai',\n",
       "       'mumbai', 'mumbai', 'mumbai', 'delhi', 'mumbai', 'mumbai',\n",
       "       'mumbai', 'delhi', 'mumbai', 'hyderabad', 'mumbai', 'mumbai',\n",
       "       'hyderabad', 'mumbai', 'hyderabad', 'delhi', 'bangalore', 'mumbai',\n",
       "       'mumbai', 'delhi', 'mumbai', 'hyderabad', 'hyderabad', 'mumbai',\n",
       "       'mumbai', 'mumbai', 'hyderabad', 'hyderabad', 'mumbai', 'delhi',\n",
       "       'mumbai', 'hyderabad', 'mumbai', 'mumbai', 'mumbai', 'mumbai',\n",
       "       'mumbai', 'punjab', 'delhi', 'hyderabad', 'mumbai', 'mumbai',\n",
       "       'hyderabad', 'mumbai', 'hyderabad', 'delhi', 'delhi', 'hyderabad',\n",
       "       'delhi', 'mumbai', 'hyderabad', 'mumbai', 'hyderabad', 'delhi',\n",
       "       'mumbai', 'delhi', 'mumbai', 'hyderabad', 'punjab', 'hyderabad',\n",
       "       'mumbai', 'delhi', 'delhi', 'mumbai', 'hyderabad', 'mumbai',\n",
       "       'mumbai', 'hyderabad', 'delhi', 'mumbai', 'hyderabad', 'mumbai',\n",
       "       'mumbai', 'mumbai', 'punjab', 'delhi', 'mumbai', 'hyderabad',\n",
       "       'mumbai', 'mumbai', 'punjab', 'mumbai', 'mumbai', 'mumbai',\n",
       "       'mumbai', 'mumbai', 'hyderabad', 'delhi', 'delhi', 'mumbai',\n",
       "       'delhi', 'mumbai', 'hyderabad', 'mumbai', 'mumbai', 'mumbai',\n",
       "       'mumbai', 'bangalore', 'delhi', 'mumbai', 'mumbai', 'mumbai',\n",
       "       'mumbai', 'mumbai', 'delhi', 'delhi', 'delhi', 'mumbai', 'mumbai',\n",
       "       'delhi', 'mumbai', 'mumbai', 'mumbai', 'hyderabad', 'delhi',\n",
       "       'punjab', 'mumbai', 'mumbai', 'hyderabad', 'mumbai', 'mumbai',\n",
       "       'mumbai', 'hyderabad', 'mumbai', 'mumbai', 'mumbai', 'mumbai',\n",
       "       'mumbai', 'mumbai', 'delhi', 'punjab', 'mumbai', 'hyderabad',\n",
       "       'hyderabad', 'mumbai', 'mumbai', 'mumbai', 'mumbai', 'delhi',\n",
       "       'bangalore', 'mumbai', 'mumbai', 'mumbai', 'bangalore',\n",
       "       'hyderabad', 'punjab', 'hyderabad', 'mumbai', 'mumbai',\n",
       "       'hyderabad', 'mumbai', 'hyderabad', 'mumbai', 'mumbai',\n",
       "       'bangalore', 'mumbai', 'mumbai', 'mumbai', 'mumbai', 'mumbai',\n",
       "       'mumbai', 'mumbai', 'delhi'], dtype='<U9')"
      ]
     },
     "execution_count": 44,
     "metadata": {},
     "output_type": "execute_result"
    }
   ],
   "source": [
    "import numpy as np\n",
    "import pandas as pd\n",
    "import scipy.stats as stats\n",
    "\n",
    "cities = [\"punjab\",\"delhi\",\"hyderabad\",\"bangalore\",\"mumbai\"]\n",
    "\n",
    "people_of_spec_city = np.random.choice(a= cities, p = [0.05, 0.15 ,0.25, 0.05, 0.5], size=1000)\n",
    "# np.random.choice, returns some random values from the given value a, with the probabilities mentioned in p of size given\n",
    "\n",
    "people_of_spec_city"
   ]
  },
  {
   "cell_type": "code",
   "execution_count": 45,
   "metadata": {
    "colab": {
     "base_uri": "https://localhost:8080/"
    },
    "id": "enY3it_rgu5i",
    "outputId": "284ad6a9-374c-420f-8fe6-858427256348"
   },
   "outputs": [
    {
     "data": {
      "text/plain": [
       "array([52, 58, 52, 56, 45, 43, 42, 50, 51, 49, 45, 43, 47, 55, 55, 42, 45,\n",
       "       50, 40, 51, 54, 58, 47, 47, 47, 51, 51, 50, 48, 51, 52, 49, 57, 44,\n",
       "       57, 43, 43, 42, 62, 42, 52, 43, 53, 43, 46, 37, 56, 41, 51, 52, 57,\n",
       "       42, 41, 44, 48, 62, 46, 45, 56, 49, 43, 52, 38, 48, 45, 45, 48, 47,\n",
       "       39, 46, 45, 42, 44, 50, 47, 50, 51, 48, 42, 57, 52, 47, 63, 52, 41,\n",
       "       44, 50, 52, 43, 43, 58, 45, 55, 54, 49, 46, 50, 45, 44, 58, 45, 49,\n",
       "       38, 51, 57, 59, 61, 42, 48, 49, 45, 46, 42, 45, 41, 41, 58, 42, 51,\n",
       "       46, 50, 47, 50, 48, 39, 51, 46, 48, 49, 47, 60, 50, 46, 56, 46, 43,\n",
       "       38, 43, 59, 54, 58, 42, 52, 54, 40, 41, 43, 47, 48, 44, 38, 42, 54,\n",
       "       45, 47, 51, 52, 41, 55, 39, 59, 49, 55, 39, 42, 48, 48, 48, 58, 42,\n",
       "       47, 51, 54, 41, 53, 53, 44, 44, 54, 45, 42, 46, 39, 44, 39, 54, 45,\n",
       "       50, 56, 43, 49, 50, 54, 46, 47, 52, 56, 45, 40, 44, 55, 56, 43, 46,\n",
       "       58, 58, 44, 50, 42, 55, 49, 44, 50, 54, 55, 54, 50, 50, 40, 49, 52,\n",
       "       56, 51, 48, 63, 39, 45, 43, 54, 50, 46, 52, 49, 42, 37, 48, 44, 49,\n",
       "       52, 47, 61, 47, 50, 46, 44, 55, 51, 45, 52, 41, 48, 60, 59, 51, 46,\n",
       "       47, 36, 49, 47, 46, 47, 44, 55, 36, 45, 38, 51, 54, 50, 48, 43, 45,\n",
       "       48, 50, 39, 45, 67, 40, 54, 42, 61, 39, 53, 51, 53, 45, 48, 48, 49,\n",
       "       45, 50, 49, 41, 43, 48, 49, 51, 49, 48, 50, 47, 51, 47, 53, 50, 44,\n",
       "       53, 41, 48, 55, 43, 52, 53, 48, 58, 55, 50, 47, 55, 53, 44, 47, 44,\n",
       "       52, 54, 40, 50, 56, 46, 43, 47, 41, 43, 47, 47, 43, 41, 49, 45, 46,\n",
       "       53, 49, 46, 55, 37, 40, 38, 46, 45, 57, 52, 49, 42, 45, 53, 49, 47,\n",
       "       63, 53, 46, 36, 53, 56, 43, 45, 46, 52, 43, 45, 59, 45, 45, 51, 45,\n",
       "       48, 55, 42, 43, 51, 48, 47, 52, 47, 44, 41, 41, 48, 43, 53, 60, 41,\n",
       "       44, 45, 58, 42, 52, 48, 44, 47, 46, 50, 38, 37, 57, 51, 60, 52, 55,\n",
       "       38, 50, 39, 43, 54, 52, 51, 44, 46, 44, 42, 43, 51, 42, 58, 54, 50,\n",
       "       53, 53, 52, 45, 49, 52, 49, 47, 47, 53, 46, 47, 38, 45, 63, 45, 55,\n",
       "       50, 42, 47, 52, 51, 43, 47, 41, 41, 52, 55, 42, 45, 55, 50, 59, 51,\n",
       "       51, 63, 39, 45, 52, 43, 46, 55, 44, 56, 50, 52, 44, 45, 61, 60, 59,\n",
       "       44, 45, 48, 46, 57, 47, 43, 50, 33, 49, 46, 46, 45, 42, 41, 53, 50,\n",
       "       34, 53, 56, 45, 51, 52, 56, 55, 54, 43, 45, 47, 58, 49, 49, 45, 40,\n",
       "       45, 44, 50, 41, 49, 52, 49, 55, 47, 57, 35, 50, 46, 54, 58, 59, 51,\n",
       "       43, 49, 51, 52, 49, 34, 38, 42, 48, 40, 57, 49, 51, 39, 45, 38, 52,\n",
       "       31, 46, 44, 45, 47, 48, 43, 62, 53, 50, 44, 47, 46, 45, 53, 33, 40,\n",
       "       53, 64, 53, 41, 51, 48, 43, 45, 52, 50, 46, 56, 49, 54, 55, 48, 49,\n",
       "       48, 51, 40, 45, 46, 50, 56, 47, 51, 48, 49, 51, 53, 51, 48, 52, 52,\n",
       "       37, 49, 45, 49, 50, 46, 50, 41, 48, 56, 47, 49, 49, 49, 36, 57, 49,\n",
       "       56, 54, 49, 52, 50, 49, 48, 50, 54, 49, 47, 47, 53, 59, 53, 46, 52,\n",
       "       53, 39, 45, 50, 51, 50, 48, 44, 53, 44, 46, 49, 46, 55, 49, 51, 47,\n",
       "       47, 48, 41, 51, 55, 53, 58, 51, 44, 44, 50, 57, 44, 38, 50, 41, 45,\n",
       "       55, 53, 48, 47, 44, 47, 51, 52, 49, 48, 47, 46, 54, 50, 51, 40, 43,\n",
       "       49, 56, 61, 43, 54, 50, 52, 52, 50, 50, 38, 42, 46, 54, 47, 49, 37,\n",
       "       47, 35, 48, 50, 44, 54, 58, 51, 58, 49, 46, 52, 52, 42, 54, 40, 45,\n",
       "       45, 55, 48, 57, 40, 47, 50, 44, 41, 41, 52, 46, 43, 46, 50, 38, 43,\n",
       "       49, 46, 50, 47, 39, 56, 43, 44, 46, 43, 54, 44, 51, 44, 52, 45, 49,\n",
       "       49, 50, 35, 39, 42, 54, 41, 45, 48, 48, 43, 49, 44, 42, 60, 49, 51,\n",
       "       49, 49, 53, 46, 55, 58, 47, 49, 40, 51, 43, 48, 47, 45, 51, 40, 49,\n",
       "       56, 52, 45, 52, 34, 44, 57, 49, 51, 43, 52, 50, 53, 46, 42, 39, 42,\n",
       "       55, 41, 38, 49, 59, 54, 45, 51, 46, 51, 47, 51, 46, 47, 49, 59, 34,\n",
       "       54, 47, 59, 48, 41, 51, 56, 49, 46, 57, 39, 46, 46, 38, 47, 42, 53,\n",
       "       44, 58, 49, 49, 56, 49, 50, 41, 45, 53, 55, 47, 46, 46, 47, 52, 53,\n",
       "       36, 50, 56, 43, 44, 53, 48, 40, 56, 51, 43, 44, 41, 51, 56, 46, 47,\n",
       "       52, 50, 49, 41, 52, 55, 47, 49, 48, 49, 43, 41, 40, 35, 41, 53, 50,\n",
       "       50, 62, 40, 45, 50, 48, 43, 47, 59, 46, 56, 54, 55, 51, 59, 53, 42,\n",
       "       48, 52, 50, 58, 53, 47, 49, 52, 38, 47, 57, 44, 48, 44, 50, 41, 53,\n",
       "       47, 46, 49, 44, 49, 50, 50, 46, 40, 43, 42, 46, 53, 52, 49, 57, 48,\n",
       "       43, 47, 49, 44, 51, 41, 40, 44, 46, 45, 47, 53, 46, 47, 41, 49, 42,\n",
       "       49, 50, 47, 45, 37, 46, 55, 51, 45, 49, 49, 43, 52, 47, 38, 48, 50,\n",
       "       50, 53, 51, 60, 43, 53, 45, 37, 43, 36, 45, 50, 53, 44, 54, 54, 53,\n",
       "       50, 47, 44, 49, 46, 44, 44, 53, 52, 37, 52, 54, 51, 49])"
      ]
     },
     "execution_count": 45,
     "metadata": {},
     "output_type": "execute_result"
    }
   ],
   "source": [
    "population_of_spec_city = stats.poisson.rvs(loc=18,  mu=30,  size= 1000)\n",
    "# stats.poisson.rvs method is used to generate random numbers, where loc is to define mean, mu is used to specify shape \n",
    "#paramters and as for the size, it defines the number of values\n",
    "\n",
    "population_of_spec_city"
   ]
  },
  {
   "cell_type": "code",
   "execution_count": 46,
   "metadata": {
    "colab": {
     "base_uri": "https://localhost:8080/"
    },
    "id": "DOlBbv0Hg4WY",
    "outputId": "d9557219-def6-4efb-e4ab-9b6889fe74af"
   },
   "outputs": [
    {
     "data": {
      "text/plain": [
       "{'bangalore': [11, 32, 39, 52, 55, 92, 98, 106, 119, 140, 145, 150, 157, 176, 192, 198, 211, 257, 265, 269, 310, 354, 356, 396, 467, 475, 495, 510, 519, 538, 552, 597, 608, 609, 612, 654, 687, 704, 721, 745, 747, 809, 810, 853, 934, 976, 980, 991], 'delhi': [1, 2, 6, 21, 23, 28, 43, 45, 49, 61, 65, 74, 78, 85, 88, 89, 90, 103, 105, 111, 113, 118, 123, 135, 146, 155, 169, 171, 191, 194, 205, 234, 241, 242, 264, 268, 278, 291, 293, 295, 297, 300, 306, 312, 320, 327, 343, 345, 346, 347, 348, 351, 362, 365, 387, 390, 393, 416, 420, 452, 459, 464, 465, 470, 476, 480, 481, 490, 491, 493, 501, 504, 512, 518, 523, 524, 528, 543, 544, 553, 557, 569, 580, 585, 589, 591, 607, 615, 617, 621, 629, 637, 648, 649, 656, 657, 662, 670, 676, 682, ...], 'hyderabad': [5, 7, 12, 15, 16, 20, 24, 33, 36, 41, 42, 44, 48, 53, 57, 62, 66, 67, 68, 80, 86, 87, 95, 96, 97, 99, 102, 107, 108, 109, 110, 115, 117, 120, 124, 125, 127, 129, 136, 137, 138, 141, 148, 151, 163, 165, 168, 172, 174, 183, 186, 188, 189, 199, 204, 208, 215, 217, 218, 227, 230, 231, 232, 249, 252, 259, 263, 270, 273, 275, 276, 277, 279, 281, 284, 286, 290, 303, 304, 307, 308, 309, 311, 314, 317, 318, 324, 328, 329, 336, 338, 341, 342, 349, 355, 363, 366, 367, 369, 372, ...], 'mumbai': [0, 3, 8, 9, 10, 13, 14, 17, 18, 19, 22, 25, 26, 27, 29, 30, 31, 34, 35, 37, 40, 46, 47, 50, 51, 54, 56, 58, 59, 60, 63, 64, 69, 71, 72, 75, 76, 79, 81, 82, 83, 84, 93, 100, 101, 104, 112, 114, 116, 122, 126, 128, 130, 131, 132, 133, 139, 142, 143, 144, 147, 149, 152, 153, 154, 156, 158, 159, 160, 161, 162, 164, 166, 167, 170, 173, 175, 177, 178, 179, 180, 181, 184, 185, 187, 190, 193, 195, 196, 197, 201, 202, 203, 206, 207, 209, 210, 212, 213, 214, ...], 'punjab': [4, 38, 70, 73, 77, 91, 94, 121, 134, 182, 200, 220, 233, 243, 245, 246, 272, 299, 333, 337, 368, 392, 431, 432, 434, 482, 483, 509, 531, 560, 568, 572, 575, 583, 584, 619, 638, 671, 686, 692, 710, 730, 733, 744, 751, 757, 761, 780, 786, 806, 812, 874, 895, 911, 917, 952, 967, 982]}"
      ]
     },
     "execution_count": 46,
     "metadata": {},
     "output_type": "execute_result"
    }
   ],
   "source": [
    "# Forming the Dataframe from the obatined values\n",
    "population_frame = pd.DataFrame({\"city\":people_of_spec_city,\"population\":population_of_spec_city})\n",
    "\n",
    "# Dividing these values by the categorical variables into groups\n",
    "groups = population_frame.groupby(\"city\").groups\n",
    "\n",
    "groups"
   ]
  },
  {
   "cell_type": "code",
   "execution_count": 47,
   "metadata": {
    "id": "3AJNktoIg88y"
   },
   "outputs": [],
   "source": [
    "# Etract individual groups into respective variables\n",
    "\n",
    "punjab = population_of_spec_city [groups[\"punjab\"]]\n",
    "bangalore = population_of_spec_city[groups[\"bangalore\"]]\n",
    "delhi = population_of_spec_city[groups[\"delhi\"]]\n",
    "hyderabad = population_of_spec_city[groups[\"hyderabad\"]]\n",
    "mumbai = population_of_spec_city[groups[\"mumbai\"]]"
   ]
  },
  {
   "cell_type": "code",
   "execution_count": 48,
   "metadata": {
    "colab": {
     "base_uri": "https://localhost:8080/"
    },
    "id": "uh-HaJv6hGlV",
    "outputId": "219327e1-900f-444e-a72b-ab7a286d3ee7"
   },
   "outputs": [
    {
     "data": {
      "text/plain": [
       "F_onewayResult(statistic=0.254671600613478, pvalue=0.9068726428739003)"
      ]
     },
     "execution_count": 48,
     "metadata": {},
     "output_type": "execute_result"
    }
   ],
   "source": [
    "# Now calculate the one-way anova test for the obtained individual groups\n",
    "\n",
    "stats.f_oneway(punjab, bangalore, delhi, hyderabad, mumbai)"
   ]
  },
  {
   "cell_type": "code",
   "execution_count": 50,
   "metadata": {
    "colab": {
     "base_uri": "https://localhost:8080/",
     "height": 334
    },
    "id": "Xjn32u3S8VfS",
    "outputId": "1160db0a-c736-4319-ceb0-aea7d9f77741"
   },
   "outputs": [
    {
     "data": {
      "text/html": [
       "<div>\n",
       "<style scoped>\n",
       "    .dataframe tbody tr th:only-of-type {\n",
       "        vertical-align: middle;\n",
       "    }\n",
       "\n",
       "    .dataframe tbody tr th {\n",
       "        vertical-align: top;\n",
       "    }\n",
       "\n",
       "    .dataframe thead th {\n",
       "        text-align: right;\n",
       "    }\n",
       "</style>\n",
       "<table border=\"1\" class=\"dataframe\">\n",
       "  <thead>\n",
       "    <tr style=\"text-align: right;\">\n",
       "      <th></th>\n",
       "      <th>adjusted_satisfaction</th>\n",
       "      <th>avg_satisfaction</th>\n",
       "      <th>std_satisfaction</th>\n",
       "      <th>avg_income</th>\n",
       "      <th>median_income</th>\n",
       "      <th>income_inequality</th>\n",
       "      <th>region</th>\n",
       "      <th>happyScore</th>\n",
       "      <th>GDP</th>\n",
       "      <th>country.1</th>\n",
       "    </tr>\n",
       "    <tr>\n",
       "      <th>country</th>\n",
       "      <th></th>\n",
       "      <th></th>\n",
       "      <th></th>\n",
       "      <th></th>\n",
       "      <th></th>\n",
       "      <th></th>\n",
       "      <th></th>\n",
       "      <th></th>\n",
       "      <th></th>\n",
       "      <th></th>\n",
       "    </tr>\n",
       "  </thead>\n",
       "  <tbody>\n",
       "    <tr>\n",
       "      <th>Armenia</th>\n",
       "      <td>37.0</td>\n",
       "      <td>4.9</td>\n",
       "      <td>2.42</td>\n",
       "      <td>2096.76</td>\n",
       "      <td>1731.506667</td>\n",
       "      <td>31.445556</td>\n",
       "      <td>'Central and Eastern Europe'</td>\n",
       "      <td>4.350</td>\n",
       "      <td>0.76821</td>\n",
       "      <td>Armenia</td>\n",
       "    </tr>\n",
       "    <tr>\n",
       "      <th>Angola</th>\n",
       "      <td>26.0</td>\n",
       "      <td>4.3</td>\n",
       "      <td>3.19</td>\n",
       "      <td>1448.88</td>\n",
       "      <td>1044.240000</td>\n",
       "      <td>42.720000</td>\n",
       "      <td>'Sub-Saharan Africa'</td>\n",
       "      <td>4.033</td>\n",
       "      <td>0.75778</td>\n",
       "      <td>Angola</td>\n",
       "    </tr>\n",
       "    <tr>\n",
       "      <th>Argentina</th>\n",
       "      <td>60.0</td>\n",
       "      <td>7.1</td>\n",
       "      <td>1.91</td>\n",
       "      <td>7101.12</td>\n",
       "      <td>5109.400000</td>\n",
       "      <td>45.475556</td>\n",
       "      <td>'Latin America and Caribbean'</td>\n",
       "      <td>6.574</td>\n",
       "      <td>1.05351</td>\n",
       "      <td>Argentina</td>\n",
       "    </tr>\n",
       "    <tr>\n",
       "      <th>Austria</th>\n",
       "      <td>59.0</td>\n",
       "      <td>7.2</td>\n",
       "      <td>2.11</td>\n",
       "      <td>19457.04</td>\n",
       "      <td>16879.620000</td>\n",
       "      <td>30.296250</td>\n",
       "      <td>'Western Europe'</td>\n",
       "      <td>7.200</td>\n",
       "      <td>1.33723</td>\n",
       "      <td>Austria</td>\n",
       "    </tr>\n",
       "    <tr>\n",
       "      <th>Australia</th>\n",
       "      <td>65.0</td>\n",
       "      <td>7.6</td>\n",
       "      <td>1.80</td>\n",
       "      <td>19917.00</td>\n",
       "      <td>15846.060000</td>\n",
       "      <td>35.285000</td>\n",
       "      <td>'Australia and New Zealand'</td>\n",
       "      <td>7.284</td>\n",
       "      <td>1.33358</td>\n",
       "      <td>Australia</td>\n",
       "    </tr>\n",
       "  </tbody>\n",
       "</table>\n",
       "</div>"
      ],
      "text/plain": [
       "           adjusted_satisfaction  avg_satisfaction  std_satisfaction  \\\n",
       "country                                                                \n",
       "Armenia                     37.0               4.9              2.42   \n",
       "Angola                      26.0               4.3              3.19   \n",
       "Argentina                   60.0               7.1              1.91   \n",
       "Austria                     59.0               7.2              2.11   \n",
       "Australia                   65.0               7.6              1.80   \n",
       "\n",
       "           avg_income  median_income  income_inequality  \\\n",
       "country                                                   \n",
       "Armenia       2096.76    1731.506667          31.445556   \n",
       "Angola        1448.88    1044.240000          42.720000   \n",
       "Argentina     7101.12    5109.400000          45.475556   \n",
       "Austria      19457.04   16879.620000          30.296250   \n",
       "Australia    19917.00   15846.060000          35.285000   \n",
       "\n",
       "                                  region  happyScore      GDP  country.1  \n",
       "country                                                                   \n",
       "Armenia     'Central and Eastern Europe'       4.350  0.76821    Armenia  \n",
       "Angola              'Sub-Saharan Africa'       4.033  0.75778     Angola  \n",
       "Argentina  'Latin America and Caribbean'       6.574  1.05351  Argentina  \n",
       "Austria                 'Western Europe'       7.200  1.33723    Austria  \n",
       "Australia    'Australia and New Zealand'       7.284  1.33358  Australia  "
      ]
     },
     "execution_count": 50,
     "metadata": {},
     "output_type": "execute_result"
    }
   ],
   "source": [
    "df = pd.read_csv('happyscore_income.csv',index_col=0)\n",
    "df.head()"
   ]
  },
  {
   "cell_type": "code",
   "execution_count": 51,
   "metadata": {
    "colab": {
     "base_uri": "https://localhost:8080/",
     "height": 300
    },
    "id": "hf_COLF88yDC",
    "outputId": "8a7c2c4a-44fd-4a51-ee59-2c365674e192"
   },
   "outputs": [
    {
     "data": {
      "text/html": [
       "<div>\n",
       "<style scoped>\n",
       "    .dataframe tbody tr th:only-of-type {\n",
       "        vertical-align: middle;\n",
       "    }\n",
       "\n",
       "    .dataframe tbody tr th {\n",
       "        vertical-align: top;\n",
       "    }\n",
       "\n",
       "    .dataframe thead th {\n",
       "        text-align: right;\n",
       "    }\n",
       "</style>\n",
       "<table border=\"1\" class=\"dataframe\">\n",
       "  <thead>\n",
       "    <tr style=\"text-align: right;\">\n",
       "      <th></th>\n",
       "      <th>adjusted_satisfaction</th>\n",
       "      <th>avg_satisfaction</th>\n",
       "      <th>std_satisfaction</th>\n",
       "      <th>avg_income</th>\n",
       "      <th>median_income</th>\n",
       "      <th>income_inequality</th>\n",
       "      <th>happyScore</th>\n",
       "      <th>GDP</th>\n",
       "    </tr>\n",
       "  </thead>\n",
       "  <tbody>\n",
       "    <tr>\n",
       "      <th>adjusted_satisfaction</th>\n",
       "      <td>1.000000</td>\n",
       "      <td>0.978067</td>\n",
       "      <td>-0.527553</td>\n",
       "      <td>0.728006</td>\n",
       "      <td>0.704383</td>\n",
       "      <td>-0.123835</td>\n",
       "      <td>0.901213</td>\n",
       "      <td>0.755578</td>\n",
       "    </tr>\n",
       "    <tr>\n",
       "      <th>avg_satisfaction</th>\n",
       "      <td>0.978067</td>\n",
       "      <td>1.000000</td>\n",
       "      <td>-0.341201</td>\n",
       "      <td>0.689043</td>\n",
       "      <td>0.661883</td>\n",
       "      <td>-0.082471</td>\n",
       "      <td>0.885988</td>\n",
       "      <td>0.776679</td>\n",
       "    </tr>\n",
       "    <tr>\n",
       "      <th>std_satisfaction</th>\n",
       "      <td>-0.527553</td>\n",
       "      <td>-0.341201</td>\n",
       "      <td>1.000000</td>\n",
       "      <td>-0.478206</td>\n",
       "      <td>-0.481429</td>\n",
       "      <td>0.221831</td>\n",
       "      <td>-0.457896</td>\n",
       "      <td>-0.242038</td>\n",
       "    </tr>\n",
       "    <tr>\n",
       "      <th>avg_income</th>\n",
       "      <td>0.728006</td>\n",
       "      <td>0.689043</td>\n",
       "      <td>-0.478206</td>\n",
       "      <td>1.000000</td>\n",
       "      <td>0.995605</td>\n",
       "      <td>-0.382587</td>\n",
       "      <td>0.782122</td>\n",
       "      <td>0.814024</td>\n",
       "    </tr>\n",
       "    <tr>\n",
       "      <th>median_income</th>\n",
       "      <td>0.704383</td>\n",
       "      <td>0.661883</td>\n",
       "      <td>-0.481429</td>\n",
       "      <td>0.995605</td>\n",
       "      <td>1.000000</td>\n",
       "      <td>-0.449053</td>\n",
       "      <td>0.760328</td>\n",
       "      <td>0.797905</td>\n",
       "    </tr>\n",
       "    <tr>\n",
       "      <th>income_inequality</th>\n",
       "      <td>-0.123835</td>\n",
       "      <td>-0.082471</td>\n",
       "      <td>0.221831</td>\n",
       "      <td>-0.382587</td>\n",
       "      <td>-0.449053</td>\n",
       "      <td>1.000000</td>\n",
       "      <td>-0.187222</td>\n",
       "      <td>-0.303204</td>\n",
       "    </tr>\n",
       "    <tr>\n",
       "      <th>happyScore</th>\n",
       "      <td>0.901213</td>\n",
       "      <td>0.885988</td>\n",
       "      <td>-0.457896</td>\n",
       "      <td>0.782122</td>\n",
       "      <td>0.760328</td>\n",
       "      <td>-0.187222</td>\n",
       "      <td>1.000000</td>\n",
       "      <td>0.790061</td>\n",
       "    </tr>\n",
       "    <tr>\n",
       "      <th>GDP</th>\n",
       "      <td>0.755578</td>\n",
       "      <td>0.776679</td>\n",
       "      <td>-0.242038</td>\n",
       "      <td>0.814024</td>\n",
       "      <td>0.797905</td>\n",
       "      <td>-0.303204</td>\n",
       "      <td>0.790061</td>\n",
       "      <td>1.000000</td>\n",
       "    </tr>\n",
       "  </tbody>\n",
       "</table>\n",
       "</div>"
      ],
      "text/plain": [
       "                       adjusted_satisfaction  avg_satisfaction  \\\n",
       "adjusted_satisfaction               1.000000          0.978067   \n",
       "avg_satisfaction                    0.978067          1.000000   \n",
       "std_satisfaction                   -0.527553         -0.341201   \n",
       "avg_income                          0.728006          0.689043   \n",
       "median_income                       0.704383          0.661883   \n",
       "income_inequality                  -0.123835         -0.082471   \n",
       "happyScore                          0.901213          0.885988   \n",
       "GDP                                 0.755578          0.776679   \n",
       "\n",
       "                       std_satisfaction  avg_income  median_income  \\\n",
       "adjusted_satisfaction         -0.527553    0.728006       0.704383   \n",
       "avg_satisfaction              -0.341201    0.689043       0.661883   \n",
       "std_satisfaction               1.000000   -0.478206      -0.481429   \n",
       "avg_income                    -0.478206    1.000000       0.995605   \n",
       "median_income                 -0.481429    0.995605       1.000000   \n",
       "income_inequality              0.221831   -0.382587      -0.449053   \n",
       "happyScore                    -0.457896    0.782122       0.760328   \n",
       "GDP                           -0.242038    0.814024       0.797905   \n",
       "\n",
       "                       income_inequality  happyScore       GDP  \n",
       "adjusted_satisfaction          -0.123835    0.901213  0.755578  \n",
       "avg_satisfaction               -0.082471    0.885988  0.776679  \n",
       "std_satisfaction                0.221831   -0.457896 -0.242038  \n",
       "avg_income                     -0.382587    0.782122  0.814024  \n",
       "median_income                  -0.449053    0.760328  0.797905  \n",
       "income_inequality               1.000000   -0.187222 -0.303204  \n",
       "happyScore                     -0.187222    1.000000  0.790061  \n",
       "GDP                            -0.303204    0.790061  1.000000  "
      ]
     },
     "execution_count": 51,
     "metadata": {},
     "output_type": "execute_result"
    }
   ],
   "source": [
    "df.corr(method='pearson')"
   ]
  },
  {
   "cell_type": "code",
   "execution_count": 52,
   "metadata": {
    "colab": {
     "base_uri": "https://localhost:8080/",
     "height": 300
    },
    "id": "xbKoh1Jh9FYj",
    "outputId": "ff6d6e3b-c394-4253-84ee-dcd10dec03e8"
   },
   "outputs": [
    {
     "data": {
      "text/html": [
       "<div>\n",
       "<style scoped>\n",
       "    .dataframe tbody tr th:only-of-type {\n",
       "        vertical-align: middle;\n",
       "    }\n",
       "\n",
       "    .dataframe tbody tr th {\n",
       "        vertical-align: top;\n",
       "    }\n",
       "\n",
       "    .dataframe thead th {\n",
       "        text-align: right;\n",
       "    }\n",
       "</style>\n",
       "<table border=\"1\" class=\"dataframe\">\n",
       "  <thead>\n",
       "    <tr style=\"text-align: right;\">\n",
       "      <th></th>\n",
       "      <th>adjusted_satisfaction</th>\n",
       "      <th>avg_satisfaction</th>\n",
       "      <th>std_satisfaction</th>\n",
       "      <th>avg_income</th>\n",
       "      <th>median_income</th>\n",
       "      <th>income_inequality</th>\n",
       "      <th>happyScore</th>\n",
       "      <th>GDP</th>\n",
       "    </tr>\n",
       "  </thead>\n",
       "  <tbody>\n",
       "    <tr>\n",
       "      <th>adjusted_satisfaction</th>\n",
       "      <td>1.000000</td>\n",
       "      <td>0.981629</td>\n",
       "      <td>-0.497192</td>\n",
       "      <td>0.803010</td>\n",
       "      <td>0.779671</td>\n",
       "      <td>-0.168049</td>\n",
       "      <td>0.900697</td>\n",
       "      <td>0.766098</td>\n",
       "    </tr>\n",
       "    <tr>\n",
       "      <th>avg_satisfaction</th>\n",
       "      <td>0.981629</td>\n",
       "      <td>1.000000</td>\n",
       "      <td>-0.354810</td>\n",
       "      <td>0.808310</td>\n",
       "      <td>0.782479</td>\n",
       "      <td>-0.137139</td>\n",
       "      <td>0.893395</td>\n",
       "      <td>0.773521</td>\n",
       "    </tr>\n",
       "    <tr>\n",
       "      <th>std_satisfaction</th>\n",
       "      <td>-0.497192</td>\n",
       "      <td>-0.354810</td>\n",
       "      <td>1.000000</td>\n",
       "      <td>-0.317653</td>\n",
       "      <td>-0.309697</td>\n",
       "      <td>0.182610</td>\n",
       "      <td>-0.421175</td>\n",
       "      <td>-0.275832</td>\n",
       "    </tr>\n",
       "    <tr>\n",
       "      <th>avg_income</th>\n",
       "      <td>0.803010</td>\n",
       "      <td>0.808310</td>\n",
       "      <td>-0.317653</td>\n",
       "      <td>1.000000</td>\n",
       "      <td>0.990839</td>\n",
       "      <td>-0.356069</td>\n",
       "      <td>0.819542</td>\n",
       "      <td>0.960969</td>\n",
       "    </tr>\n",
       "    <tr>\n",
       "      <th>median_income</th>\n",
       "      <td>0.779671</td>\n",
       "      <td>0.782479</td>\n",
       "      <td>-0.309697</td>\n",
       "      <td>0.990839</td>\n",
       "      <td>1.000000</td>\n",
       "      <td>-0.448926</td>\n",
       "      <td>0.806704</td>\n",
       "      <td>0.961583</td>\n",
       "    </tr>\n",
       "    <tr>\n",
       "      <th>income_inequality</th>\n",
       "      <td>-0.168049</td>\n",
       "      <td>-0.137139</td>\n",
       "      <td>0.182610</td>\n",
       "      <td>-0.356069</td>\n",
       "      <td>-0.448926</td>\n",
       "      <td>1.000000</td>\n",
       "      <td>-0.242107</td>\n",
       "      <td>-0.409767</td>\n",
       "    </tr>\n",
       "    <tr>\n",
       "      <th>happyScore</th>\n",
       "      <td>0.900697</td>\n",
       "      <td>0.893395</td>\n",
       "      <td>-0.421175</td>\n",
       "      <td>0.819542</td>\n",
       "      <td>0.806704</td>\n",
       "      <td>-0.242107</td>\n",
       "      <td>1.000000</td>\n",
       "      <td>0.793673</td>\n",
       "    </tr>\n",
       "    <tr>\n",
       "      <th>GDP</th>\n",
       "      <td>0.766098</td>\n",
       "      <td>0.773521</td>\n",
       "      <td>-0.275832</td>\n",
       "      <td>0.960969</td>\n",
       "      <td>0.961583</td>\n",
       "      <td>-0.409767</td>\n",
       "      <td>0.793673</td>\n",
       "      <td>1.000000</td>\n",
       "    </tr>\n",
       "  </tbody>\n",
       "</table>\n",
       "</div>"
      ],
      "text/plain": [
       "                       adjusted_satisfaction  avg_satisfaction  \\\n",
       "adjusted_satisfaction               1.000000          0.981629   \n",
       "avg_satisfaction                    0.981629          1.000000   \n",
       "std_satisfaction                   -0.497192         -0.354810   \n",
       "avg_income                          0.803010          0.808310   \n",
       "median_income                       0.779671          0.782479   \n",
       "income_inequality                  -0.168049         -0.137139   \n",
       "happyScore                          0.900697          0.893395   \n",
       "GDP                                 0.766098          0.773521   \n",
       "\n",
       "                       std_satisfaction  avg_income  median_income  \\\n",
       "adjusted_satisfaction         -0.497192    0.803010       0.779671   \n",
       "avg_satisfaction              -0.354810    0.808310       0.782479   \n",
       "std_satisfaction               1.000000   -0.317653      -0.309697   \n",
       "avg_income                    -0.317653    1.000000       0.990839   \n",
       "median_income                 -0.309697    0.990839       1.000000   \n",
       "income_inequality              0.182610   -0.356069      -0.448926   \n",
       "happyScore                    -0.421175    0.819542       0.806704   \n",
       "GDP                           -0.275832    0.960969       0.961583   \n",
       "\n",
       "                       income_inequality  happyScore       GDP  \n",
       "adjusted_satisfaction          -0.168049    0.900697  0.766098  \n",
       "avg_satisfaction               -0.137139    0.893395  0.773521  \n",
       "std_satisfaction                0.182610   -0.421175 -0.275832  \n",
       "avg_income                     -0.356069    0.819542  0.960969  \n",
       "median_income                  -0.448926    0.806704  0.961583  \n",
       "income_inequality               1.000000   -0.242107 -0.409767  \n",
       "happyScore                     -0.242107    1.000000  0.793673  \n",
       "GDP                            -0.409767    0.793673  1.000000  "
      ]
     },
     "execution_count": 52,
     "metadata": {},
     "output_type": "execute_result"
    }
   ],
   "source": [
    "df.corr(method='spearman')"
   ]
  },
  {
   "cell_type": "code",
   "execution_count": 53,
   "metadata": {
    "colab": {
     "base_uri": "https://localhost:8080/",
     "height": 300
    },
    "id": "D-nQ2kb39KtM",
    "outputId": "17131765-b2ca-4ea1-8182-fd0499df5321"
   },
   "outputs": [
    {
     "data": {
      "text/html": [
       "<div>\n",
       "<style scoped>\n",
       "    .dataframe tbody tr th:only-of-type {\n",
       "        vertical-align: middle;\n",
       "    }\n",
       "\n",
       "    .dataframe tbody tr th {\n",
       "        vertical-align: top;\n",
       "    }\n",
       "\n",
       "    .dataframe thead th {\n",
       "        text-align: right;\n",
       "    }\n",
       "</style>\n",
       "<table border=\"1\" class=\"dataframe\">\n",
       "  <thead>\n",
       "    <tr style=\"text-align: right;\">\n",
       "      <th></th>\n",
       "      <th>adjusted_satisfaction</th>\n",
       "      <th>avg_satisfaction</th>\n",
       "      <th>std_satisfaction</th>\n",
       "      <th>avg_income</th>\n",
       "      <th>median_income</th>\n",
       "      <th>income_inequality</th>\n",
       "      <th>happyScore</th>\n",
       "      <th>GDP</th>\n",
       "    </tr>\n",
       "  </thead>\n",
       "  <tbody>\n",
       "    <tr>\n",
       "      <th>adjusted_satisfaction</th>\n",
       "      <td>1.000000</td>\n",
       "      <td>0.905145</td>\n",
       "      <td>-0.378239</td>\n",
       "      <td>0.614896</td>\n",
       "      <td>0.593379</td>\n",
       "      <td>-0.124810</td>\n",
       "      <td>0.741682</td>\n",
       "      <td>0.581131</td>\n",
       "    </tr>\n",
       "    <tr>\n",
       "      <th>avg_satisfaction</th>\n",
       "      <td>0.905145</td>\n",
       "      <td>1.000000</td>\n",
       "      <td>-0.266347</td>\n",
       "      <td>0.618270</td>\n",
       "      <td>0.593810</td>\n",
       "      <td>-0.104128</td>\n",
       "      <td>0.732966</td>\n",
       "      <td>0.591166</td>\n",
       "    </tr>\n",
       "    <tr>\n",
       "      <th>std_satisfaction</th>\n",
       "      <td>-0.378239</td>\n",
       "      <td>-0.266347</td>\n",
       "      <td>1.000000</td>\n",
       "      <td>-0.237797</td>\n",
       "      <td>-0.233515</td>\n",
       "      <td>0.124672</td>\n",
       "      <td>-0.320795</td>\n",
       "      <td>-0.205190</td>\n",
       "    </tr>\n",
       "    <tr>\n",
       "      <th>avg_income</th>\n",
       "      <td>0.614896</td>\n",
       "      <td>0.618270</td>\n",
       "      <td>-0.237797</td>\n",
       "      <td>1.000000</td>\n",
       "      <td>0.929566</td>\n",
       "      <td>-0.229994</td>\n",
       "      <td>0.622277</td>\n",
       "      <td>0.841441</td>\n",
       "    </tr>\n",
       "    <tr>\n",
       "      <th>median_income</th>\n",
       "      <td>0.593379</td>\n",
       "      <td>0.593810</td>\n",
       "      <td>-0.233515</td>\n",
       "      <td>0.929566</td>\n",
       "      <td>1.000000</td>\n",
       "      <td>-0.299779</td>\n",
       "      <td>0.614087</td>\n",
       "      <td>0.847011</td>\n",
       "    </tr>\n",
       "    <tr>\n",
       "      <th>income_inequality</th>\n",
       "      <td>-0.124810</td>\n",
       "      <td>-0.104128</td>\n",
       "      <td>0.124672</td>\n",
       "      <td>-0.229994</td>\n",
       "      <td>-0.299779</td>\n",
       "      <td>1.000000</td>\n",
       "      <td>-0.166762</td>\n",
       "      <td>-0.264067</td>\n",
       "    </tr>\n",
       "    <tr>\n",
       "      <th>happyScore</th>\n",
       "      <td>0.741682</td>\n",
       "      <td>0.732966</td>\n",
       "      <td>-0.320795</td>\n",
       "      <td>0.622277</td>\n",
       "      <td>0.614087</td>\n",
       "      <td>-0.166762</td>\n",
       "      <td>1.000000</td>\n",
       "      <td>0.601310</td>\n",
       "    </tr>\n",
       "    <tr>\n",
       "      <th>GDP</th>\n",
       "      <td>0.581131</td>\n",
       "      <td>0.591166</td>\n",
       "      <td>-0.205190</td>\n",
       "      <td>0.841441</td>\n",
       "      <td>0.847011</td>\n",
       "      <td>-0.264067</td>\n",
       "      <td>0.601310</td>\n",
       "      <td>1.000000</td>\n",
       "    </tr>\n",
       "  </tbody>\n",
       "</table>\n",
       "</div>"
      ],
      "text/plain": [
       "                       adjusted_satisfaction  avg_satisfaction  \\\n",
       "adjusted_satisfaction               1.000000          0.905145   \n",
       "avg_satisfaction                    0.905145          1.000000   \n",
       "std_satisfaction                   -0.378239         -0.266347   \n",
       "avg_income                          0.614896          0.618270   \n",
       "median_income                       0.593379          0.593810   \n",
       "income_inequality                  -0.124810         -0.104128   \n",
       "happyScore                          0.741682          0.732966   \n",
       "GDP                                 0.581131          0.591166   \n",
       "\n",
       "                       std_satisfaction  avg_income  median_income  \\\n",
       "adjusted_satisfaction         -0.378239    0.614896       0.593379   \n",
       "avg_satisfaction              -0.266347    0.618270       0.593810   \n",
       "std_satisfaction               1.000000   -0.237797      -0.233515   \n",
       "avg_income                    -0.237797    1.000000       0.929566   \n",
       "median_income                 -0.233515    0.929566       1.000000   \n",
       "income_inequality              0.124672   -0.229994      -0.299779   \n",
       "happyScore                    -0.320795    0.622277       0.614087   \n",
       "GDP                           -0.205190    0.841441       0.847011   \n",
       "\n",
       "                       income_inequality  happyScore       GDP  \n",
       "adjusted_satisfaction          -0.124810    0.741682  0.581131  \n",
       "avg_satisfaction               -0.104128    0.732966  0.591166  \n",
       "std_satisfaction                0.124672   -0.320795 -0.205190  \n",
       "avg_income                     -0.229994    0.622277  0.841441  \n",
       "median_income                  -0.299779    0.614087  0.847011  \n",
       "income_inequality               1.000000   -0.166762 -0.264067  \n",
       "happyScore                     -0.166762    1.000000  0.601310  \n",
       "GDP                            -0.264067    0.601310  1.000000  "
      ]
     },
     "execution_count": 53,
     "metadata": {},
     "output_type": "execute_result"
    }
   ],
   "source": [
    "df.corr(method='kendall')"
   ]
  },
  {
   "cell_type": "code",
   "execution_count": 54,
   "metadata": {
    "id": "eHLmuLM_-C64"
   },
   "outputs": [],
   "source": [
    "from scipy.stats import chisquare"
   ]
  },
  {
   "cell_type": "code",
   "execution_count": 55,
   "metadata": {
    "colab": {
     "base_uri": "https://localhost:8080/"
    },
    "id": "Zp6Sivgo-GPM",
    "outputId": "194f39fb-8bcf-4389-b423-bdff6dc52916"
   },
   "outputs": [
    {
     "name": "stdout",
     "output_type": "stream",
     "text": [
      "chisquare statistic : 2.0\n",
      "p_value : 0.8491450360846096\n"
     ]
    }
   ],
   "source": [
    "f_obs=[16, 12, 16, 18, 14, 12]\n",
    "chisq=chisquare(f_obs).statistic\n",
    "pvalue=chisquare(f_obs).pvalue\n",
    "print(\"chisquare statistic :\",chisq)\n",
    "print(\"p_value :\",pvalue)"
   ]
  },
  {
   "cell_type": "code",
   "execution_count": 56,
   "metadata": {
    "colab": {
     "base_uri": "https://localhost:8080/"
    },
    "id": "E_sf63T_-KG9",
    "outputId": "0bcfa089-b153-431d-a448-c6d0e9cd911d"
   },
   "outputs": [
    {
     "data": {
      "text/plain": [
       "Power_divergenceResult(statistic=3.5, pvalue=0.6233876277495822)"
      ]
     },
     "execution_count": 56,
     "metadata": {},
     "output_type": "execute_result"
    }
   ],
   "source": [
    "f_obs=[16, 12, 16, 18, 14, 12]\n",
    "f_exp=[16, 8, 16, 16, 16, 16]\n",
    "chisquare(f_obs,f_exp)"
   ]
  },
  {
   "cell_type": "code",
   "execution_count": 57,
   "metadata": {
    "colab": {
     "base_uri": "https://localhost:8080/"
    },
    "id": "ugXiKhFH-OVw",
    "outputId": "011774f2-fcfa-4802-b792-727ae2524cf3"
   },
   "outputs": [
    {
     "data": {
      "text/plain": [
       "Power_divergenceResult(statistic=array([1.6       , 0.        , 5.33333333, 0.11764706, 7.04347826,\n",
       "       0.        ]), pvalue=array([0.20590321, 1.        , 0.02092134, 0.73160059, 0.00795544,\n",
       "       1.        ]))"
      ]
     },
     "execution_count": 57,
     "metadata": {},
     "output_type": "execute_result"
    }
   ],
   "source": [
    "f_obs=[[16, 12, 16, 18, 14, 12],[24, 12, 32, 16, 32, 12]] # The test is automatically applied to each column\n",
    "chisquare(f_obs)"
   ]
  },
  {
   "cell_type": "code",
   "execution_count": 58,
   "metadata": {
    "colab": {
     "base_uri": "https://localhost:8080/"
    },
    "id": "nMdsoW4B-rG6",
    "outputId": "21920e80-e922-498d-fdf5-9f33403cceb9"
   },
   "outputs": [
    {
     "data": {
      "text/plain": [
       "Power_divergenceResult(statistic=33.33333333333333, pvalue=0.0004645423926184954)"
      ]
     },
     "execution_count": 58,
     "metadata": {},
     "output_type": "execute_result"
    }
   ],
   "source": [
    "f_obs=[[16, 12, 16, 18, 14, 12],[24, 12, 32, 16, 32, 12]] # The test is applied to the whole data\n",
    "chisquare(f_obs, axis=None)"
   ]
  },
  {
   "cell_type": "code",
   "execution_count": 59,
   "metadata": {
    "colab": {
     "base_uri": "https://localhost:8080/"
    },
    "id": "M61Kp_ly-4ey",
    "outputId": "b47c8bb4-0c0a-47c7-8583-58112faaa379"
   },
   "outputs": [
    {
     "data": {
      "text/plain": [
       "Power_divergenceResult(statistic=array([0. , 3.5]), pvalue=array([1.        , 0.62338763]))"
      ]
     },
     "execution_count": 59,
     "metadata": {},
     "output_type": "execute_result"
    }
   ],
   "source": [
    "f_obs=[16, 12, 16, 18, 14, 12]\n",
    "f_exp=[[16, 12, 16, 18, 14, 12],[16, 8, 16, 16, 16, 16]]\n",
    "chisquare(f_obs,f_exp,axis=1)"
   ]
  },
  {
   "cell_type": "code",
   "execution_count": 60,
   "metadata": {
    "colab": {
     "base_uri": "https://localhost:8080/"
    },
    "id": "Tgj6dLVj-zR9",
    "outputId": "7ff29dd9-32b3-4443-bc0c-e7feff89846c"
   },
   "outputs": [
    {
     "data": {
      "text/plain": [
       "Power_divergenceResult(statistic=2.0, pvalue=0.7357588823428847)"
      ]
     },
     "execution_count": 60,
     "metadata": {},
     "output_type": "execute_result"
    }
   ],
   "source": [
    "f_obs=[16, 12, 16, 18, 14, 12]\n",
    "chisquare(f_obs, ddof=1)"
   ]
  },
  {
   "cell_type": "code",
   "execution_count": 61,
   "metadata": {
    "colab": {
     "base_uri": "https://localhost:8080/"
    },
    "id": "pgmgIYXz-yBI",
    "outputId": "6da50308-ac88-42ae-d11d-aa95f3385b90"
   },
   "outputs": [
    {
     "data": {
      "text/plain": [
       "Power_divergenceResult(statistic=2.0, pvalue=array([0.84914504, 0.73575888]))"
      ]
     },
     "execution_count": 61,
     "metadata": {},
     "output_type": "execute_result"
    }
   ],
   "source": [
    "chisquare(f_obs,ddof=[0,1])"
   ]
  },
  {
   "cell_type": "code",
   "execution_count": 62,
   "metadata": {
    "colab": {
     "base_uri": "https://localhost:8080/"
    },
    "id": "_PSspQi4-_zi",
    "outputId": "b5e479dc-0c82-4442-8b49-f9de3640ac53"
   },
   "outputs": [
    {
     "data": {
      "text/plain": [
       "Power_divergenceResult(statistic=2.0, pvalue=array([0.84914504, 0.73575888, 0.5724067 ]))"
      ]
     },
     "execution_count": 62,
     "metadata": {},
     "output_type": "execute_result"
    }
   ],
   "source": [
    "chisquare(f_obs,ddof=[0,1,2])"
   ]
  }
 ],
 "metadata": {
  "colab": {
   "provenance": []
  },
  "kernelspec": {
   "display_name": "Python 3 (ipykernel)",
   "language": "python",
   "name": "python3"
  },
  "language_info": {
   "codemirror_mode": {
    "name": "ipython",
    "version": 3
   },
   "file_extension": ".py",
   "mimetype": "text/x-python",
   "name": "python",
   "nbconvert_exporter": "python",
   "pygments_lexer": "ipython3",
   "version": "3.8.11"
  }
 },
 "nbformat": 4,
 "nbformat_minor": 1
}
